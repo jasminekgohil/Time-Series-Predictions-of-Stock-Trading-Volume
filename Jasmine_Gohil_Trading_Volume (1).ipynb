{
  "cells": [
    {
      "cell_type": "markdown",
      "metadata": {
        "id": "9QDN42JBoI8U"
      },
      "source": [
        "# BA870/AC820 Assignment #2 - Template for Time-Series Predictions of Stock Trading Volume\n",
        "### Make sure you read the instructions for Assignment #2 posted on Blackboard\n",
        "\n"
      ]
    },
    {
      "cell_type": "markdown",
      "metadata": {
        "id": "aZ3dYlzkqSlE"
      },
      "source": [
        "## Import libraries and packages"
      ]
    },
    {
      "cell_type": "code",
      "execution_count": null,
      "metadata": {
        "id": "5sB-1B_vpwf_"
      },
      "outputs": [],
      "source": [
        "import numpy as np\n",
        "import pandas as pd\n",
        "import matplotlib.pyplot as plt\n",
        "import statsmodels.api as sm\n",
        "from sklearn.metrics import mean_squared_error"
      ]
    },
    {
      "cell_type": "markdown",
      "metadata": {
        "id": "GCTS0BzTrH5v"
      },
      "source": [
        "## Upload *dataset* (CSV file is located in Assignments folder on Blackboard)"
      ]
    },
    {
      "cell_type": "code",
      "execution_count": null,
      "metadata": {
        "id": "WO0FSMHEpwiK"
      },
      "outputs": [],
      "source": [
        "all_data = pd.read_csv('assign2data.csv')"
      ]
    },
    {
      "cell_type": "markdown",
      "source": [
        "## Examine variables in dataframe"
      ],
      "metadata": {
        "id": "ntidBRP1gfUf"
      }
    },
    {
      "cell_type": "code",
      "execution_count": null,
      "metadata": {
        "colab": {
          "base_uri": "https://localhost:8080/"
        },
        "id": "7yerVfTQqyKc",
        "outputId": "9329bfc2-001a-4cb2-a127-b74d4b84f558"
      },
      "outputs": [
        {
          "output_type": "stream",
          "name": "stdout",
          "text": [
            "<class 'pandas.core.frame.DataFrame'>\n",
            "RangeIndex: 753 entries, 0 to 752\n",
            "Data columns (total 14 columns):\n",
            " #   Column          Non-Null Count  Dtype  \n",
            "---  ------          --------------  -----  \n",
            " 0   ObsNum          753 non-null    int64  \n",
            " 1   TrainTest       753 non-null    object \n",
            " 2   DayOfWeek       753 non-null    object \n",
            " 3   Month           753 non-null    int64  \n",
            " 4   VolStock1(t)    503 non-null    float64\n",
            " 5   EADay           753 non-null    int64  \n",
            " 6   EADayBefore     753 non-null    int64  \n",
            " 7   EADayAfter      753 non-null    int64  \n",
            " 8   VolStock1(t-1)  504 non-null    float64\n",
            " 9   VolStock2(t-1)  753 non-null    float64\n",
            " 10  VolStock3(t-1)  753 non-null    float64\n",
            " 11  VolStock4(t-1)  753 non-null    float64\n",
            " 12  VolStock5(t-1)  753 non-null    float64\n",
            " 13  VolStock6(t-1)  753 non-null    float64\n",
            "dtypes: float64(7), int64(5), object(2)\n",
            "memory usage: 82.5+ KB\n"
          ]
        }
      ],
      "source": [
        "all_data.info()"
      ]
    },
    {
      "cell_type": "markdown",
      "source": [
        "## View dataframe for complete dataset (all_data)"
      ],
      "metadata": {
        "id": "6bWPkQf_glra"
      }
    },
    {
      "cell_type": "code",
      "source": [
        "all_data"
      ],
      "metadata": {
        "colab": {
          "base_uri": "https://localhost:8080/",
          "height": 441
        },
        "id": "QkglEwAtgJnV",
        "outputId": "1a013658-8631-4d02-f347-527e200b1901"
      },
      "execution_count": null,
      "outputs": [
        {
          "output_type": "execute_result",
          "data": {
            "text/plain": [
              "     ObsNum TrainTest  DayOfWeek  Month  VolStock1(t)  EADay  EADayBefore  \\\n",
              "0         1     Train     Monday      3          2.65      0            0   \n",
              "1         2     Train    Tuesday      3          3.99      0            0   \n",
              "2         3     Train  Wednesday      3          3.08      0            0   \n",
              "3         4     Train   Thursday      3          2.55      0            0   \n",
              "4         5     Train     Friday      3          2.56      0            0   \n",
              "..      ...       ...        ...    ...           ...    ...          ...   \n",
              "748     749      Test     Friday     14           NaN      0            0   \n",
              "749     750      Test    Tuesday     14           NaN      0            0   \n",
              "750     751      Test  Wednesday     14           NaN      0            0   \n",
              "751     752      Test   Thursday     14           NaN      0            0   \n",
              "752     753      Test     Friday     14           NaN      0            0   \n",
              "\n",
              "     EADayAfter  VolStock1(t-1)  VolStock2(t-1)  VolStock3(t-1)  \\\n",
              "0             0            2.55            4.01            3.89   \n",
              "1             0            2.65            2.18            2.74   \n",
              "2             0            3.99            5.00            4.68   \n",
              "3             0            3.08            4.51            3.22   \n",
              "4             0            2.55            3.80            2.60   \n",
              "..          ...             ...             ...             ...   \n",
              "748           0             NaN            3.35            2.34   \n",
              "749           0             NaN            2.12            1.76   \n",
              "750           0             NaN            2.47            2.22   \n",
              "751           0             NaN            2.04            1.49   \n",
              "752           0             NaN            2.37            2.39   \n",
              "\n",
              "     VolStock4(t-1)  VolStock5(t-1)  VolStock6(t-1)  \n",
              "0              2.77            6.30            5.01  \n",
              "1              1.81            4.29            3.02  \n",
              "2              4.47            6.82            4.99  \n",
              "3              2.89            4.82            3.99  \n",
              "4              3.40            4.62            4.01  \n",
              "..              ...             ...             ...  \n",
              "748            2.14            1.62            1.11  \n",
              "749            1.80            1.26            0.95  \n",
              "750            2.40            2.09            1.19  \n",
              "751            2.15            1.48            1.02  \n",
              "752            2.72            1.85            1.50  \n",
              "\n",
              "[753 rows x 14 columns]"
            ],
            "text/html": [
              "\n",
              "  <div id=\"df-9b1e7ee4-3759-4f2a-bc9e-185286b1bb90\" class=\"colab-df-container\">\n",
              "    <div>\n",
              "<style scoped>\n",
              "    .dataframe tbody tr th:only-of-type {\n",
              "        vertical-align: middle;\n",
              "    }\n",
              "\n",
              "    .dataframe tbody tr th {\n",
              "        vertical-align: top;\n",
              "    }\n",
              "\n",
              "    .dataframe thead th {\n",
              "        text-align: right;\n",
              "    }\n",
              "</style>\n",
              "<table border=\"1\" class=\"dataframe\">\n",
              "  <thead>\n",
              "    <tr style=\"text-align: right;\">\n",
              "      <th></th>\n",
              "      <th>ObsNum</th>\n",
              "      <th>TrainTest</th>\n",
              "      <th>DayOfWeek</th>\n",
              "      <th>Month</th>\n",
              "      <th>VolStock1(t)</th>\n",
              "      <th>EADay</th>\n",
              "      <th>EADayBefore</th>\n",
              "      <th>EADayAfter</th>\n",
              "      <th>VolStock1(t-1)</th>\n",
              "      <th>VolStock2(t-1)</th>\n",
              "      <th>VolStock3(t-1)</th>\n",
              "      <th>VolStock4(t-1)</th>\n",
              "      <th>VolStock5(t-1)</th>\n",
              "      <th>VolStock6(t-1)</th>\n",
              "    </tr>\n",
              "  </thead>\n",
              "  <tbody>\n",
              "    <tr>\n",
              "      <th>0</th>\n",
              "      <td>1</td>\n",
              "      <td>Train</td>\n",
              "      <td>Monday</td>\n",
              "      <td>3</td>\n",
              "      <td>2.65</td>\n",
              "      <td>0</td>\n",
              "      <td>0</td>\n",
              "      <td>0</td>\n",
              "      <td>2.55</td>\n",
              "      <td>4.01</td>\n",
              "      <td>3.89</td>\n",
              "      <td>2.77</td>\n",
              "      <td>6.30</td>\n",
              "      <td>5.01</td>\n",
              "    </tr>\n",
              "    <tr>\n",
              "      <th>1</th>\n",
              "      <td>2</td>\n",
              "      <td>Train</td>\n",
              "      <td>Tuesday</td>\n",
              "      <td>3</td>\n",
              "      <td>3.99</td>\n",
              "      <td>0</td>\n",
              "      <td>0</td>\n",
              "      <td>0</td>\n",
              "      <td>2.65</td>\n",
              "      <td>2.18</td>\n",
              "      <td>2.74</td>\n",
              "      <td>1.81</td>\n",
              "      <td>4.29</td>\n",
              "      <td>3.02</td>\n",
              "    </tr>\n",
              "    <tr>\n",
              "      <th>2</th>\n",
              "      <td>3</td>\n",
              "      <td>Train</td>\n",
              "      <td>Wednesday</td>\n",
              "      <td>3</td>\n",
              "      <td>3.08</td>\n",
              "      <td>0</td>\n",
              "      <td>0</td>\n",
              "      <td>0</td>\n",
              "      <td>3.99</td>\n",
              "      <td>5.00</td>\n",
              "      <td>4.68</td>\n",
              "      <td>4.47</td>\n",
              "      <td>6.82</td>\n",
              "      <td>4.99</td>\n",
              "    </tr>\n",
              "    <tr>\n",
              "      <th>3</th>\n",
              "      <td>4</td>\n",
              "      <td>Train</td>\n",
              "      <td>Thursday</td>\n",
              "      <td>3</td>\n",
              "      <td>2.55</td>\n",
              "      <td>0</td>\n",
              "      <td>0</td>\n",
              "      <td>0</td>\n",
              "      <td>3.08</td>\n",
              "      <td>4.51</td>\n",
              "      <td>3.22</td>\n",
              "      <td>2.89</td>\n",
              "      <td>4.82</td>\n",
              "      <td>3.99</td>\n",
              "    </tr>\n",
              "    <tr>\n",
              "      <th>4</th>\n",
              "      <td>5</td>\n",
              "      <td>Train</td>\n",
              "      <td>Friday</td>\n",
              "      <td>3</td>\n",
              "      <td>2.56</td>\n",
              "      <td>0</td>\n",
              "      <td>0</td>\n",
              "      <td>0</td>\n",
              "      <td>2.55</td>\n",
              "      <td>3.80</td>\n",
              "      <td>2.60</td>\n",
              "      <td>3.40</td>\n",
              "      <td>4.62</td>\n",
              "      <td>4.01</td>\n",
              "    </tr>\n",
              "    <tr>\n",
              "      <th>...</th>\n",
              "      <td>...</td>\n",
              "      <td>...</td>\n",
              "      <td>...</td>\n",
              "      <td>...</td>\n",
              "      <td>...</td>\n",
              "      <td>...</td>\n",
              "      <td>...</td>\n",
              "      <td>...</td>\n",
              "      <td>...</td>\n",
              "      <td>...</td>\n",
              "      <td>...</td>\n",
              "      <td>...</td>\n",
              "      <td>...</td>\n",
              "      <td>...</td>\n",
              "    </tr>\n",
              "    <tr>\n",
              "      <th>748</th>\n",
              "      <td>749</td>\n",
              "      <td>Test</td>\n",
              "      <td>Friday</td>\n",
              "      <td>14</td>\n",
              "      <td>NaN</td>\n",
              "      <td>0</td>\n",
              "      <td>0</td>\n",
              "      <td>0</td>\n",
              "      <td>NaN</td>\n",
              "      <td>3.35</td>\n",
              "      <td>2.34</td>\n",
              "      <td>2.14</td>\n",
              "      <td>1.62</td>\n",
              "      <td>1.11</td>\n",
              "    </tr>\n",
              "    <tr>\n",
              "      <th>749</th>\n",
              "      <td>750</td>\n",
              "      <td>Test</td>\n",
              "      <td>Tuesday</td>\n",
              "      <td>14</td>\n",
              "      <td>NaN</td>\n",
              "      <td>0</td>\n",
              "      <td>0</td>\n",
              "      <td>0</td>\n",
              "      <td>NaN</td>\n",
              "      <td>2.12</td>\n",
              "      <td>1.76</td>\n",
              "      <td>1.80</td>\n",
              "      <td>1.26</td>\n",
              "      <td>0.95</td>\n",
              "    </tr>\n",
              "    <tr>\n",
              "      <th>750</th>\n",
              "      <td>751</td>\n",
              "      <td>Test</td>\n",
              "      <td>Wednesday</td>\n",
              "      <td>14</td>\n",
              "      <td>NaN</td>\n",
              "      <td>0</td>\n",
              "      <td>0</td>\n",
              "      <td>0</td>\n",
              "      <td>NaN</td>\n",
              "      <td>2.47</td>\n",
              "      <td>2.22</td>\n",
              "      <td>2.40</td>\n",
              "      <td>2.09</td>\n",
              "      <td>1.19</td>\n",
              "    </tr>\n",
              "    <tr>\n",
              "      <th>751</th>\n",
              "      <td>752</td>\n",
              "      <td>Test</td>\n",
              "      <td>Thursday</td>\n",
              "      <td>14</td>\n",
              "      <td>NaN</td>\n",
              "      <td>0</td>\n",
              "      <td>0</td>\n",
              "      <td>0</td>\n",
              "      <td>NaN</td>\n",
              "      <td>2.04</td>\n",
              "      <td>1.49</td>\n",
              "      <td>2.15</td>\n",
              "      <td>1.48</td>\n",
              "      <td>1.02</td>\n",
              "    </tr>\n",
              "    <tr>\n",
              "      <th>752</th>\n",
              "      <td>753</td>\n",
              "      <td>Test</td>\n",
              "      <td>Friday</td>\n",
              "      <td>14</td>\n",
              "      <td>NaN</td>\n",
              "      <td>0</td>\n",
              "      <td>0</td>\n",
              "      <td>0</td>\n",
              "      <td>NaN</td>\n",
              "      <td>2.37</td>\n",
              "      <td>2.39</td>\n",
              "      <td>2.72</td>\n",
              "      <td>1.85</td>\n",
              "      <td>1.50</td>\n",
              "    </tr>\n",
              "  </tbody>\n",
              "</table>\n",
              "<p>753 rows × 14 columns</p>\n",
              "</div>\n",
              "    <div class=\"colab-df-buttons\">\n",
              "\n",
              "  <div class=\"colab-df-container\">\n",
              "    <button class=\"colab-df-convert\" onclick=\"convertToInteractive('df-9b1e7ee4-3759-4f2a-bc9e-185286b1bb90')\"\n",
              "            title=\"Convert this dataframe to an interactive table.\"\n",
              "            style=\"display:none;\">\n",
              "\n",
              "  <svg xmlns=\"http://www.w3.org/2000/svg\" height=\"24px\" viewBox=\"0 -960 960 960\">\n",
              "    <path d=\"M120-120v-720h720v720H120Zm60-500h600v-160H180v160Zm220 220h160v-160H400v160Zm0 220h160v-160H400v160ZM180-400h160v-160H180v160Zm440 0h160v-160H620v160ZM180-180h160v-160H180v160Zm440 0h160v-160H620v160Z\"/>\n",
              "  </svg>\n",
              "    </button>\n",
              "\n",
              "  <style>\n",
              "    .colab-df-container {\n",
              "      display:flex;\n",
              "      gap: 12px;\n",
              "    }\n",
              "\n",
              "    .colab-df-convert {\n",
              "      background-color: #E8F0FE;\n",
              "      border: none;\n",
              "      border-radius: 50%;\n",
              "      cursor: pointer;\n",
              "      display: none;\n",
              "      fill: #1967D2;\n",
              "      height: 32px;\n",
              "      padding: 0 0 0 0;\n",
              "      width: 32px;\n",
              "    }\n",
              "\n",
              "    .colab-df-convert:hover {\n",
              "      background-color: #E2EBFA;\n",
              "      box-shadow: 0px 1px 2px rgba(60, 64, 67, 0.3), 0px 1px 3px 1px rgba(60, 64, 67, 0.15);\n",
              "      fill: #174EA6;\n",
              "    }\n",
              "\n",
              "    .colab-df-buttons div {\n",
              "      margin-bottom: 4px;\n",
              "    }\n",
              "\n",
              "    [theme=dark] .colab-df-convert {\n",
              "      background-color: #3B4455;\n",
              "      fill: #D2E3FC;\n",
              "    }\n",
              "\n",
              "    [theme=dark] .colab-df-convert:hover {\n",
              "      background-color: #434B5C;\n",
              "      box-shadow: 0px 1px 3px 1px rgba(0, 0, 0, 0.15);\n",
              "      filter: drop-shadow(0px 1px 2px rgba(0, 0, 0, 0.3));\n",
              "      fill: #FFFFFF;\n",
              "    }\n",
              "  </style>\n",
              "\n",
              "    <script>\n",
              "      const buttonEl =\n",
              "        document.querySelector('#df-9b1e7ee4-3759-4f2a-bc9e-185286b1bb90 button.colab-df-convert');\n",
              "      buttonEl.style.display =\n",
              "        google.colab.kernel.accessAllowed ? 'block' : 'none';\n",
              "\n",
              "      async function convertToInteractive(key) {\n",
              "        const element = document.querySelector('#df-9b1e7ee4-3759-4f2a-bc9e-185286b1bb90');\n",
              "        const dataTable =\n",
              "          await google.colab.kernel.invokeFunction('convertToInteractive',\n",
              "                                                    [key], {});\n",
              "        if (!dataTable) return;\n",
              "\n",
              "        const docLinkHtml = 'Like what you see? Visit the ' +\n",
              "          '<a target=\"_blank\" href=https://colab.research.google.com/notebooks/data_table.ipynb>data table notebook</a>'\n",
              "          + ' to learn more about interactive tables.';\n",
              "        element.innerHTML = '';\n",
              "        dataTable['output_type'] = 'display_data';\n",
              "        await google.colab.output.renderOutput(dataTable, element);\n",
              "        const docLink = document.createElement('div');\n",
              "        docLink.innerHTML = docLinkHtml;\n",
              "        element.appendChild(docLink);\n",
              "      }\n",
              "    </script>\n",
              "  </div>\n",
              "\n",
              "\n",
              "<div id=\"df-3dda7249-5854-4458-8a9c-45b8929b8e7d\">\n",
              "  <button class=\"colab-df-quickchart\" onclick=\"quickchart('df-3dda7249-5854-4458-8a9c-45b8929b8e7d')\"\n",
              "            title=\"Suggest charts\"\n",
              "            style=\"display:none;\">\n",
              "\n",
              "<svg xmlns=\"http://www.w3.org/2000/svg\" height=\"24px\"viewBox=\"0 0 24 24\"\n",
              "     width=\"24px\">\n",
              "    <g>\n",
              "        <path d=\"M19 3H5c-1.1 0-2 .9-2 2v14c0 1.1.9 2 2 2h14c1.1 0 2-.9 2-2V5c0-1.1-.9-2-2-2zM9 17H7v-7h2v7zm4 0h-2V7h2v10zm4 0h-2v-4h2v4z\"/>\n",
              "    </g>\n",
              "</svg>\n",
              "  </button>\n",
              "\n",
              "<style>\n",
              "  .colab-df-quickchart {\n",
              "      --bg-color: #E8F0FE;\n",
              "      --fill-color: #1967D2;\n",
              "      --hover-bg-color: #E2EBFA;\n",
              "      --hover-fill-color: #174EA6;\n",
              "      --disabled-fill-color: #AAA;\n",
              "      --disabled-bg-color: #DDD;\n",
              "  }\n",
              "\n",
              "  [theme=dark] .colab-df-quickchart {\n",
              "      --bg-color: #3B4455;\n",
              "      --fill-color: #D2E3FC;\n",
              "      --hover-bg-color: #434B5C;\n",
              "      --hover-fill-color: #FFFFFF;\n",
              "      --disabled-bg-color: #3B4455;\n",
              "      --disabled-fill-color: #666;\n",
              "  }\n",
              "\n",
              "  .colab-df-quickchart {\n",
              "    background-color: var(--bg-color);\n",
              "    border: none;\n",
              "    border-radius: 50%;\n",
              "    cursor: pointer;\n",
              "    display: none;\n",
              "    fill: var(--fill-color);\n",
              "    height: 32px;\n",
              "    padding: 0;\n",
              "    width: 32px;\n",
              "  }\n",
              "\n",
              "  .colab-df-quickchart:hover {\n",
              "    background-color: var(--hover-bg-color);\n",
              "    box-shadow: 0 1px 2px rgba(60, 64, 67, 0.3), 0 1px 3px 1px rgba(60, 64, 67, 0.15);\n",
              "    fill: var(--button-hover-fill-color);\n",
              "  }\n",
              "\n",
              "  .colab-df-quickchart-complete:disabled,\n",
              "  .colab-df-quickchart-complete:disabled:hover {\n",
              "    background-color: var(--disabled-bg-color);\n",
              "    fill: var(--disabled-fill-color);\n",
              "    box-shadow: none;\n",
              "  }\n",
              "\n",
              "  .colab-df-spinner {\n",
              "    border: 2px solid var(--fill-color);\n",
              "    border-color: transparent;\n",
              "    border-bottom-color: var(--fill-color);\n",
              "    animation:\n",
              "      spin 1s steps(1) infinite;\n",
              "  }\n",
              "\n",
              "  @keyframes spin {\n",
              "    0% {\n",
              "      border-color: transparent;\n",
              "      border-bottom-color: var(--fill-color);\n",
              "      border-left-color: var(--fill-color);\n",
              "    }\n",
              "    20% {\n",
              "      border-color: transparent;\n",
              "      border-left-color: var(--fill-color);\n",
              "      border-top-color: var(--fill-color);\n",
              "    }\n",
              "    30% {\n",
              "      border-color: transparent;\n",
              "      border-left-color: var(--fill-color);\n",
              "      border-top-color: var(--fill-color);\n",
              "      border-right-color: var(--fill-color);\n",
              "    }\n",
              "    40% {\n",
              "      border-color: transparent;\n",
              "      border-right-color: var(--fill-color);\n",
              "      border-top-color: var(--fill-color);\n",
              "    }\n",
              "    60% {\n",
              "      border-color: transparent;\n",
              "      border-right-color: var(--fill-color);\n",
              "    }\n",
              "    80% {\n",
              "      border-color: transparent;\n",
              "      border-right-color: var(--fill-color);\n",
              "      border-bottom-color: var(--fill-color);\n",
              "    }\n",
              "    90% {\n",
              "      border-color: transparent;\n",
              "      border-bottom-color: var(--fill-color);\n",
              "    }\n",
              "  }\n",
              "</style>\n",
              "\n",
              "  <script>\n",
              "    async function quickchart(key) {\n",
              "      const quickchartButtonEl =\n",
              "        document.querySelector('#' + key + ' button');\n",
              "      quickchartButtonEl.disabled = true;  // To prevent multiple clicks.\n",
              "      quickchartButtonEl.classList.add('colab-df-spinner');\n",
              "      try {\n",
              "        const charts = await google.colab.kernel.invokeFunction(\n",
              "            'suggestCharts', [key], {});\n",
              "      } catch (error) {\n",
              "        console.error('Error during call to suggestCharts:', error);\n",
              "      }\n",
              "      quickchartButtonEl.classList.remove('colab-df-spinner');\n",
              "      quickchartButtonEl.classList.add('colab-df-quickchart-complete');\n",
              "    }\n",
              "    (() => {\n",
              "      let quickchartButtonEl =\n",
              "        document.querySelector('#df-3dda7249-5854-4458-8a9c-45b8929b8e7d button');\n",
              "      quickchartButtonEl.style.display =\n",
              "        google.colab.kernel.accessAllowed ? 'block' : 'none';\n",
              "    })();\n",
              "  </script>\n",
              "</div>\n",
              "    </div>\n",
              "  </div>\n"
            ],
            "application/vnd.google.colaboratory.intrinsic+json": {
              "type": "dataframe",
              "variable_name": "all_data",
              "summary": "{\n  \"name\": \"all_data\",\n  \"rows\": 753,\n  \"fields\": [\n    {\n      \"column\": \"ObsNum\",\n      \"properties\": {\n        \"dtype\": \"number\",\n        \"std\": 217,\n        \"min\": 1,\n        \"max\": 753,\n        \"num_unique_values\": 753,\n        \"samples\": [\n          717,\n          652,\n          372\n        ],\n        \"semantic_type\": \"\",\n        \"description\": \"\"\n      }\n    },\n    {\n      \"column\": \"TrainTest\",\n      \"properties\": {\n        \"dtype\": \"category\",\n        \"num_unique_values\": 3,\n        \"samples\": [\n          \"Train\",\n          \"Train/Validate\",\n          \"Test\"\n        ],\n        \"semantic_type\": \"\",\n        \"description\": \"\"\n      }\n    },\n    {\n      \"column\": \"DayOfWeek\",\n      \"properties\": {\n        \"dtype\": \"category\",\n        \"num_unique_values\": 5,\n        \"samples\": [\n          \"Tuesday\",\n          \"Friday\",\n          \"Wednesday\"\n        ],\n        \"semantic_type\": \"\",\n        \"description\": \"\"\n      }\n    },\n    {\n      \"column\": \"Month\",\n      \"properties\": {\n        \"dtype\": \"number\",\n        \"std\": 3,\n        \"min\": 3,\n        \"max\": 14,\n        \"num_unique_values\": 12,\n        \"samples\": [\n          13,\n          12,\n          3\n        ],\n        \"semantic_type\": \"\",\n        \"description\": \"\"\n      }\n    },\n    {\n      \"column\": \"VolStock1(t)\",\n      \"properties\": {\n        \"dtype\": \"number\",\n        \"std\": 1.1518900306700304,\n        \"min\": 1.02,\n        \"max\": 10.54,\n        \"num_unique_values\": 268,\n        \"samples\": [\n          1.85,\n          4.37,\n          2.01\n        ],\n        \"semantic_type\": \"\",\n        \"description\": \"\"\n      }\n    },\n    {\n      \"column\": \"EADay\",\n      \"properties\": {\n        \"dtype\": \"number\",\n        \"std\": 0,\n        \"min\": 0,\n        \"max\": 1,\n        \"num_unique_values\": 2,\n        \"samples\": [\n          1,\n          0\n        ],\n        \"semantic_type\": \"\",\n        \"description\": \"\"\n      }\n    },\n    {\n      \"column\": \"EADayBefore\",\n      \"properties\": {\n        \"dtype\": \"number\",\n        \"std\": 0,\n        \"min\": 0,\n        \"max\": 1,\n        \"num_unique_values\": 2,\n        \"samples\": [\n          1,\n          0\n        ],\n        \"semantic_type\": \"\",\n        \"description\": \"\"\n      }\n    },\n    {\n      \"column\": \"EADayAfter\",\n      \"properties\": {\n        \"dtype\": \"number\",\n        \"std\": 0,\n        \"min\": 0,\n        \"max\": 1,\n        \"num_unique_values\": 2,\n        \"samples\": [\n          1,\n          0\n        ],\n        \"semantic_type\": \"\",\n        \"description\": \"\"\n      }\n    },\n    {\n      \"column\": \"VolStock1(t-1)\",\n      \"properties\": {\n        \"dtype\": \"number\",\n        \"std\": 1.1510876187268737,\n        \"min\": 1.02,\n        \"max\": 10.54,\n        \"num_unique_values\": 268,\n        \"samples\": [\n          1.85,\n          4.37\n        ],\n        \"semantic_type\": \"\",\n        \"description\": \"\"\n      }\n    },\n    {\n      \"column\": \"VolStock2(t-1)\",\n      \"properties\": {\n        \"dtype\": \"number\",\n        \"std\": 1.5663064265395537,\n        \"min\": 1.23,\n        \"max\": 15.13,\n        \"num_unique_values\": 364,\n        \"samples\": [\n          4.28,\n          3.16\n        ],\n        \"semantic_type\": \"\",\n        \"description\": \"\"\n      }\n    },\n    {\n      \"column\": \"VolStock3(t-1)\",\n      \"properties\": {\n        \"dtype\": \"number\",\n        \"std\": 6.55647500630323,\n        \"min\": 1.12,\n        \"max\": 116.41,\n        \"num_unique_values\": 523,\n        \"samples\": [\n          2.22,\n          8.15\n        ],\n        \"semantic_type\": \"\",\n        \"description\": \"\"\n      }\n    },\n    {\n      \"column\": \"VolStock4(t-1)\",\n      \"properties\": {\n        \"dtype\": \"number\",\n        \"std\": 3.2836649717831876,\n        \"min\": 1.0,\n        \"max\": 42.64,\n        \"num_unique_values\": 455,\n        \"samples\": [\n          4.4,\n          5.8\n        ],\n        \"semantic_type\": \"\",\n        \"description\": \"\"\n      }\n    },\n    {\n      \"column\": \"VolStock5(t-1)\",\n      \"properties\": {\n        \"dtype\": \"number\",\n        \"std\": 1.2267171511759716,\n        \"min\": 1.06,\n        \"max\": 8.62,\n        \"num_unique_values\": 352,\n        \"samples\": [\n          3.44,\n          5.58\n        ],\n        \"semantic_type\": \"\",\n        \"description\": \"\"\n      }\n    },\n    {\n      \"column\": \"VolStock6(t-1)\",\n      \"properties\": {\n        \"dtype\": \"number\",\n        \"std\": 1.6020572073115416,\n        \"min\": 0.85,\n        \"max\": 15.41,\n        \"num_unique_values\": 364,\n        \"samples\": [\n          8.78,\n          5.3\n        ],\n        \"semantic_type\": \"\",\n        \"description\": \"\"\n      }\n    }\n  ]\n}"
            }
          },
          "metadata": {},
          "execution_count": 633
        }
      ]
    },
    {
      "cell_type": "code",
      "source": [
        "# Visualize the data\n",
        "plt.figure(figsize=(12, 6))\n",
        "plt.plot(all_data['VolStock2(t-1)'], label='Stock2')\n",
        "plt.plot(all_data['VolStock1(t)'], label='Stock1')\n",
        "plt.xlabel('Obs #')\n",
        "plt.ylabel('Volume')\n",
        "plt.legend()\n",
        "plt.title('Trading Volume - Stock 1')\n",
        "plt.show()"
      ],
      "metadata": {
        "colab": {
          "base_uri": "https://localhost:8080/",
          "height": 564
        },
        "id": "wuoiVJ26e6fH",
        "outputId": "c32550f1-33ce-4e5e-c108-fed30f518022"
      },
      "execution_count": null,
      "outputs": [
        {
          "output_type": "display_data",
          "data": {
            "text/plain": [
              "<Figure size 1200x600 with 1 Axes>"
            ],
            "image/png": "[encoded data removed]"
          },
          "metadata": {}
        }
      ]
    },
    {
      "cell_type": "code",
      "source": [
        "all_data.info()"
      ],
      "metadata": {
        "colab": {
          "base_uri": "https://localhost:8080/"
        },
        "id": "EQ4sIsxabXeF",
        "outputId": "f859ce99-e1e4-4d58-f6fc-ee3f9d4bbc0f"
      },
      "execution_count": null,
      "outputs": [
        {
          "output_type": "stream",
          "name": "stdout",
          "text": [
            "<class 'pandas.core.frame.DataFrame'>\n",
            "RangeIndex: 753 entries, 0 to 752\n",
            "Data columns (total 14 columns):\n",
            " #   Column          Non-Null Count  Dtype  \n",
            "---  ------          --------------  -----  \n",
            " 0   ObsNum          753 non-null    int64  \n",
            " 1   TrainTest       753 non-null    object \n",
            " 2   DayOfWeek       753 non-null    object \n",
            " 3   Month           753 non-null    int64  \n",
            " 4   VolStock1(t)    503 non-null    float64\n",
            " 5   EADay           753 non-null    int64  \n",
            " 6   EADayBefore     753 non-null    int64  \n",
            " 7   EADayAfter      753 non-null    int64  \n",
            " 8   VolStock1(t-1)  504 non-null    float64\n",
            " 9   VolStock2(t-1)  753 non-null    float64\n",
            " 10  VolStock3(t-1)  753 non-null    float64\n",
            " 11  VolStock4(t-1)  753 non-null    float64\n",
            " 12  VolStock5(t-1)  753 non-null    float64\n",
            " 13  VolStock6(t-1)  753 non-null    float64\n",
            "dtypes: float64(7), int64(5), object(2)\n",
            "memory usage: 82.5+ KB\n"
          ]
        }
      ]
    },
    {
      "cell_type": "code",
      "source": [
        "train_data = all_data[:252] # dataset to train\n",
        "validate_data = all_data[252:503] # dataset for validation\n",
        "test_data = all_data[503:753]"
      ],
      "metadata": {
        "id": "yPWPa3z6grE9"
      },
      "execution_count": null,
      "outputs": []
    },
    {
      "cell_type": "markdown",
      "source": [
        "##Train Data"
      ],
      "metadata": {
        "id": "tsEIZJJdnhMe"
      }
    },
    {
      "cell_type": "code",
      "source": [
        "train_data = pd.get_dummies(train_data, columns=['DayOfWeek'])\n",
        "\n",
        "# Print the updated DataFrame\n",
        "print(train_data.head())"
      ],
      "metadata": {
        "colab": {
          "base_uri": "https://localhost:8080/"
        },
        "id": "5pOJb255nc3S",
        "outputId": "aa3c5f9c-9b8f-4f7f-b8aa-0794b29847b4"
      },
      "execution_count": null,
      "outputs": [
        {
          "output_type": "stream",
          "name": "stdout",
          "text": [
            "   ObsNum TrainTest  Month  VolStock1(t)  EADay  EADayBefore  EADayAfter  \\\n",
            "0       1     Train      3          2.65      0            0           0   \n",
            "1       2     Train      3          3.99      0            0           0   \n",
            "2       3     Train      3          3.08      0            0           0   \n",
            "3       4     Train      3          2.55      0            0           0   \n",
            "4       5     Train      3          2.56      0            0           0   \n",
            "\n",
            "   VolStock1(t-1)  VolStock2(t-1)  VolStock3(t-1)  VolStock4(t-1)  \\\n",
            "0            2.55            4.01            3.89            2.77   \n",
            "1            2.65            2.18            2.74            1.81   \n",
            "2            3.99            5.00            4.68            4.47   \n",
            "3            3.08            4.51            3.22            2.89   \n",
            "4            2.55            3.80            2.60            3.40   \n",
            "\n",
            "   VolStock5(t-1)  VolStock6(t-1)  DayOfWeek_Friday  DayOfWeek_Monday  \\\n",
            "0            6.30            5.01                 0                 1   \n",
            "1            4.29            3.02                 0                 0   \n",
            "2            6.82            4.99                 0                 0   \n",
            "3            4.82            3.99                 0                 0   \n",
            "4            4.62            4.01                 1                 0   \n",
            "\n",
            "   DayOfWeek_Thursday  DayOfWeek_Tuesday  DayOfWeek_Wednesday  \n",
            "0                   0                  0                    0  \n",
            "1                   0                  1                    0  \n",
            "2                   0                  0                    1  \n",
            "3                   1                  0                    0  \n",
            "4                   0                  0                    0  \n"
          ]
        }
      ]
    },
    {
      "cell_type": "code",
      "source": [
        "train_data = pd.get_dummies(train_data, columns=['Month'])\n",
        "\n",
        "# Print the updated DataFrame\n",
        "print(train_data.head())"
      ],
      "metadata": {
        "colab": {
          "base_uri": "https://localhost:8080/"
        },
        "id": "apPGEWuond-w",
        "outputId": "0dbc4220-5461-4bd3-eee7-148ea4b1a97a"
      },
      "execution_count": null,
      "outputs": [
        {
          "output_type": "stream",
          "name": "stdout",
          "text": [
            "   ObsNum TrainTest  VolStock1(t)  EADay  EADayBefore  EADayAfter  \\\n",
            "0       1     Train          2.65      0            0           0   \n",
            "1       2     Train          3.99      0            0           0   \n",
            "2       3     Train          3.08      0            0           0   \n",
            "3       4     Train          2.55      0            0           0   \n",
            "4       5     Train          2.56      0            0           0   \n",
            "\n",
            "   VolStock1(t-1)  VolStock2(t-1)  VolStock3(t-1)  VolStock4(t-1)  ...  \\\n",
            "0            2.55            4.01            3.89            2.77  ...   \n",
            "1            2.65            2.18            2.74            1.81  ...   \n",
            "2            3.99            5.00            4.68            4.47  ...   \n",
            "3            3.08            4.51            3.22            2.89  ...   \n",
            "4            2.55            3.80            2.60            3.40  ...   \n",
            "\n",
            "   Month_5  Month_6  Month_7  Month_8  Month_9  Month_10  Month_11  Month_12  \\\n",
            "0        0        0        0        0        0         0         0         0   \n",
            "1        0        0        0        0        0         0         0         0   \n",
            "2        0        0        0        0        0         0         0         0   \n",
            "3        0        0        0        0        0         0         0         0   \n",
            "4        0        0        0        0        0         0         0         0   \n",
            "\n",
            "   Month_13  Month_14  \n",
            "0         0         0  \n",
            "1         0         0  \n",
            "2         0         0  \n",
            "3         0         0  \n",
            "4         0         0  \n",
            "\n",
            "[5 rows x 29 columns]\n"
          ]
        }
      ]
    },
    {
      "cell_type": "code",
      "source": [
        "import pandas as pd\n",
        "\n",
        "#Simple Moving Averages (SMA)\n",
        "for i in range(2, 7):  # Loop through columns VolStock2(t-1) to VolStock6(t-1)\n",
        "    train_data[f'SMA_{i}'] = train_data[f'VolStock{i}(t-1)'].rolling(window=4).mean()\n",
        "\n",
        "#Exponential Moving Averages (EMA)\n",
        "for i in range(2, 7):\n",
        "    train_data[f'EMA_{i}'] = train_data[f'VolStock{i}(t-1)'].ewm(span=4, adjust=False).mean()"
      ],
      "metadata": {
        "id": "jZHEuLKllzZx"
      },
      "execution_count": null,
      "outputs": []
    },
    {
      "cell_type": "markdown",
      "source": [
        "## Validate Data"
      ],
      "metadata": {
        "id": "VO7jbnbTnpig"
      }
    },
    {
      "cell_type": "code",
      "source": [
        "validate_data = pd.get_dummies(validate_data, columns=['DayOfWeek'])\n",
        "\n",
        "# Print the updated DataFrame\n",
        "print(validate_data.head())"
      ],
      "metadata": {
        "colab": {
          "base_uri": "https://localhost:8080/"
        },
        "id": "dVFpvqHlnrNh",
        "outputId": "e51a4869-9afa-4b8f-8dec-195fbad33fc3"
      },
      "execution_count": null,
      "outputs": [
        {
          "output_type": "stream",
          "name": "stdout",
          "text": [
            "     ObsNum       TrainTest  Month  VolStock1(t)  EADay  EADayBefore  \\\n",
            "252     253  Train/Validate      3          3.63      0            0   \n",
            "253     254  Train/Validate      3          4.45      0            0   \n",
            "254     255  Train/Validate      3          4.43      0            0   \n",
            "255     256  Train/Validate      3          3.64      0            0   \n",
            "256     257  Train/Validate      3          4.93      0            0   \n",
            "\n",
            "     EADayAfter  VolStock1(t-1)  VolStock2(t-1)  VolStock3(t-1)  \\\n",
            "252           0            3.21            3.07            2.68   \n",
            "253           0            3.63            3.04            3.82   \n",
            "254           0            4.45            5.86            3.61   \n",
            "255           0            4.43            4.00            4.97   \n",
            "256           0            3.64            3.20            2.93   \n",
            "\n",
            "     VolStock4(t-1)  VolStock5(t-1)  VolStock6(t-1)  DayOfWeek_Friday  \\\n",
            "252            2.67            4.61            3.61                 0   \n",
            "253            2.93            4.36            3.99                 0   \n",
            "254            3.77            4.16            3.63                 0   \n",
            "255            5.12            4.26            2.93                 0   \n",
            "256            2.70            3.86            2.62                 1   \n",
            "\n",
            "     DayOfWeek_Monday  DayOfWeek_Thursday  DayOfWeek_Tuesday  \\\n",
            "252                 1                   0                  0   \n",
            "253                 0                   0                  1   \n",
            "254                 0                   0                  0   \n",
            "255                 0                   1                  0   \n",
            "256                 0                   0                  0   \n",
            "\n",
            "     DayOfWeek_Wednesday  \n",
            "252                    0  \n",
            "253                    0  \n",
            "254                    1  \n",
            "255                    0  \n",
            "256                    0  \n"
          ]
        }
      ]
    },
    {
      "cell_type": "code",
      "source": [
        "validate_data = pd.get_dummies(validate_data, columns=['Month'])\n",
        "\n",
        "# Print the updated DataFrame\n",
        "print(validate_data.head())"
      ],
      "metadata": {
        "colab": {
          "base_uri": "https://localhost:8080/"
        },
        "id": "5UaWkYhtn2Ec",
        "outputId": "8821307c-14cc-45ca-9cb0-282575757a5c"
      },
      "execution_count": null,
      "outputs": [
        {
          "output_type": "stream",
          "name": "stdout",
          "text": [
            "     ObsNum       TrainTest  VolStock1(t)  EADay  EADayBefore  EADayAfter  \\\n",
            "252     253  Train/Validate          3.63      0            0           0   \n",
            "253     254  Train/Validate          4.45      0            0           0   \n",
            "254     255  Train/Validate          4.43      0            0           0   \n",
            "255     256  Train/Validate          3.64      0            0           0   \n",
            "256     257  Train/Validate          4.93      0            0           0   \n",
            "\n",
            "     VolStock1(t-1)  VolStock2(t-1)  VolStock3(t-1)  VolStock4(t-1)  ...  \\\n",
            "252            3.21            3.07            2.68            2.67  ...   \n",
            "253            3.63            3.04            3.82            2.93  ...   \n",
            "254            4.45            5.86            3.61            3.77  ...   \n",
            "255            4.43            4.00            4.97            5.12  ...   \n",
            "256            3.64            3.20            2.93            2.70  ...   \n",
            "\n",
            "     Month_5  Month_6  Month_7  Month_8  Month_9  Month_10  Month_11  \\\n",
            "252        0        0        0        0        0         0         0   \n",
            "253        0        0        0        0        0         0         0   \n",
            "254        0        0        0        0        0         0         0   \n",
            "255        0        0        0        0        0         0         0   \n",
            "256        0        0        0        0        0         0         0   \n",
            "\n",
            "     Month_12  Month_13  Month_14  \n",
            "252         0         0         0  \n",
            "253         0         0         0  \n",
            "254         0         0         0  \n",
            "255         0         0         0  \n",
            "256         0         0         0  \n",
            "\n",
            "[5 rows x 29 columns]\n"
          ]
        }
      ]
    },
    {
      "cell_type": "code",
      "source": [
        "import pandas as pd\n",
        "\n",
        "#Simple Moving Averages (SMA)\n",
        "for i in range(2, 7):  # Loop through columns VolStock2(t-1) to VolStock6(t-1)\n",
        "    validate_data[f'SMA_{i}'] = validate_data[f'VolStock{i}(t-1)'].rolling(window=4).mean()\n",
        "\n",
        "#Exponential Moving Averages (EMA)\n",
        "for i in range(2, 7):\n",
        "    validate_data[f'EMA_{i}'] = validate_data[f'VolStock{i}(t-1)'].ewm(span=4, adjust=False).mean()"
      ],
      "metadata": {
        "id": "ynlDAdCLl7sN"
      },
      "execution_count": null,
      "outputs": []
    },
    {
      "cell_type": "markdown",
      "source": [
        "## Test Data"
      ],
      "metadata": {
        "id": "2DwrfYQbn6iG"
      }
    },
    {
      "cell_type": "code",
      "source": [
        "test_data = pd.get_dummies(test_data, columns=['DayOfWeek'])\n",
        "\n",
        "# Print the updated DataFrame\n",
        "print(test_data.head())"
      ],
      "metadata": {
        "colab": {
          "base_uri": "https://localhost:8080/"
        },
        "id": "RcjJoMwKn8EA",
        "outputId": "be7146fa-97de-4cdd-f37b-6c111a7f4127"
      },
      "execution_count": null,
      "outputs": [
        {
          "output_type": "stream",
          "name": "stdout",
          "text": [
            "     ObsNum TrainTest  Month  VolStock1(t)  EADay  EADayBefore  EADayAfter  \\\n",
            "503     504      Test      3           NaN      0            0           0   \n",
            "504     505      Test      3           NaN      0            0           0   \n",
            "505     506      Test      3           NaN      0            0           0   \n",
            "506     507      Test      3           NaN      0            0           0   \n",
            "507     508      Test      3           NaN      0            0           0   \n",
            "\n",
            "     VolStock1(t-1)  VolStock2(t-1)  VolStock3(t-1)  VolStock4(t-1)  \\\n",
            "503            2.86            3.57            5.89            6.53   \n",
            "504             NaN            4.42            8.15            5.98   \n",
            "505             NaN            3.45            7.26            4.67   \n",
            "506             NaN            5.27            7.80            5.07   \n",
            "507             NaN            3.67            5.91            4.90   \n",
            "\n",
            "     VolStock5(t-1)  VolStock6(t-1)  DayOfWeek_Friday  DayOfWeek_Monday  \\\n",
            "503            4.93            2.91                 0                 0   \n",
            "504            3.92            2.61                 0                 0   \n",
            "505            3.57            2.58                 0                 0   \n",
            "506            3.86            3.16                 1                 0   \n",
            "507            3.11            2.47                 0                 1   \n",
            "\n",
            "     DayOfWeek_Thursday  DayOfWeek_Tuesday  DayOfWeek_Wednesday  \n",
            "503                   0                  1                    0  \n",
            "504                   0                  0                    1  \n",
            "505                   1                  0                    0  \n",
            "506                   0                  0                    0  \n",
            "507                   0                  0                    0  \n"
          ]
        }
      ]
    },
    {
      "cell_type": "code",
      "source": [
        "test_data = pd.get_dummies(test_data, columns=['Month'])\n",
        "\n",
        "# Print the updated DataFrame\n",
        "print(test_data.head())"
      ],
      "metadata": {
        "colab": {
          "base_uri": "https://localhost:8080/"
        },
        "id": "v9iPlt5goD_Q",
        "outputId": "64474798-2323-41d8-c558-0b8dc3f2ffc1"
      },
      "execution_count": null,
      "outputs": [
        {
          "output_type": "stream",
          "name": "stdout",
          "text": [
            "     ObsNum TrainTest  VolStock1(t)  EADay  EADayBefore  EADayAfter  \\\n",
            "503     504      Test           NaN      0            0           0   \n",
            "504     505      Test           NaN      0            0           0   \n",
            "505     506      Test           NaN      0            0           0   \n",
            "506     507      Test           NaN      0            0           0   \n",
            "507     508      Test           NaN      0            0           0   \n",
            "\n",
            "     VolStock1(t-1)  VolStock2(t-1)  VolStock3(t-1)  VolStock4(t-1)  ...  \\\n",
            "503            2.86            3.57            5.89            6.53  ...   \n",
            "504             NaN            4.42            8.15            5.98  ...   \n",
            "505             NaN            3.45            7.26            4.67  ...   \n",
            "506             NaN            5.27            7.80            5.07  ...   \n",
            "507             NaN            3.67            5.91            4.90  ...   \n",
            "\n",
            "     Month_5  Month_6  Month_7  Month_8  Month_9  Month_10  Month_11  \\\n",
            "503        0        0        0        0        0         0         0   \n",
            "504        0        0        0        0        0         0         0   \n",
            "505        0        0        0        0        0         0         0   \n",
            "506        0        0        0        0        0         0         0   \n",
            "507        0        0        0        0        0         0         0   \n",
            "\n",
            "     Month_12  Month_13  Month_14  \n",
            "503         0         0         0  \n",
            "504         0         0         0  \n",
            "505         0         0         0  \n",
            "506         0         0         0  \n",
            "507         0         0         0  \n",
            "\n",
            "[5 rows x 29 columns]\n"
          ]
        }
      ]
    },
    {
      "cell_type": "code",
      "source": [
        "import pandas as pd\n",
        "\n",
        "#Simple Moving Averages (SMA)\n",
        "for i in range(2, 7):  # Loop through columns VolStock2(t-1) to VolStock6(t-1)\n",
        "    test_data[f'SMA_{i}'] = test_data[f'VolStock{i}(t-1)'].rolling(window=4).mean()\n",
        "\n",
        "#Exponential Moving Averages (EMA)\n",
        "for i in range(2, 7):\n",
        "    test_data[f'EMA_{i}'] = test_data[f'VolStock{i}(t-1)'].ewm(span=4, adjust=False).mean()"
      ],
      "metadata": {
        "id": "5M7ylrGroNnQ"
      },
      "execution_count": null,
      "outputs": []
    },
    {
      "cell_type": "code",
      "source": [
        "train_data.dropna(inplace=True)\n",
        "validate_data.dropna(inplace=True)"
      ],
      "metadata": {
        "id": "E1BX-sEVmET8"
      },
      "execution_count": null,
      "outputs": []
    },
    {
      "cell_type": "markdown",
      "source": [
        "----------------------------\n",
        "\n",
        "NOTE: The following textboxes and code are examples to help you get started on your Assignment. Your Colab Notebook should include your own code and analysis from this point forward.\n",
        "\n",
        "-----------------------------"
      ],
      "metadata": {
        "id": "jyMKsG5qBOv9"
      }
    },
    {
      "cell_type": "markdown",
      "source": [
        "##Visualize the data"
      ],
      "metadata": {
        "id": "E1-3bo-FlMZK"
      }
    },
    {
      "cell_type": "code",
      "source": [
        "# Visualize the data\n",
        "plt.figure(figsize=(12, 6))\n",
        "plt.plot(train_data['VolStock1(t)'], label='Volume_Train_Sample')\n",
        "plt.plot(validate_data['VolStock1(t)'], label='Volume_Validate_Sample')\n",
        "plt.xlabel('Obs #')\n",
        "plt.ylabel('Volume')\n",
        "plt.legend()\n",
        "plt.title('Trading Volume - Stock 1')\n",
        "plt.show()"
      ],
      "metadata": {
        "colab": {
          "base_uri": "https://localhost:8080/",
          "height": 564
        },
        "id": "LP-1evNGg2oF",
        "outputId": "6ba9d2f3-47b6-4cb5-f474-8ae757b2d58b"
      },
      "execution_count": null,
      "outputs": [
        {
          "output_type": "display_data",
          "data": {
            "text/plain": [
              "<Figure size 1200x600 with 1 Axes>"
            ],
            "image/png": "[encoded data removed]"
          },
          "metadata": {}
        }
      ]
    },
    {
      "cell_type": "markdown",
      "source": [
        "##Basic Model with two Variables, Earnings Announcement Day and Volume of Stock traded one day before"
      ],
      "metadata": {
        "id": "mvkD3v4CzOdV"
      }
    },
    {
      "cell_type": "code",
      "source": [
        "X = train_data[['EADay','VolStock2(t-1)', 'VolStock3(t-1)', 'VolStock4(t-1)', 'VolStock5(t-1)', 'VolStock6(t-1)']]\n",
        "y = train_data['VolStock1(t)']\n",
        "\n",
        "X = sm.add_constant(X) # adding a constant\n",
        "\n",
        "# Use statsmodels OLS regression\n",
        "\n",
        "EADay_model = sm.OLS(y, X).fit()\n",
        "\n",
        "# To get predicted values of Y, uncomment the following code:\n",
        "vol_predict = EADay_model.predict(X)"
      ],
      "metadata": {
        "id": "ZB0pxYgXyn4u"
      },
      "execution_count": null,
      "outputs": []
    },
    {
      "cell_type": "code",
      "source": [
        "print_model = EADay_model.summary()\n",
        "print(print_model)"
      ],
      "metadata": {
        "colab": {
          "base_uri": "https://localhost:8080/"
        },
        "id": "kYIEkPYJzDzL",
        "outputId": "9d9206cd-ac07-4c36-dd27-f832be98a9cc"
      },
      "execution_count": null,
      "outputs": [
        {
          "output_type": "stream",
          "name": "stdout",
          "text": [
            "                            OLS Regression Results                            \n",
            "==============================================================================\n",
            "Dep. Variable:           VolStock1(t)   R-squared:                       0.400\n",
            "Model:                            OLS   Adj. R-squared:                  0.385\n",
            "Method:                 Least Squares   F-statistic:                     26.92\n",
            "Date:                Tue, 26 Mar 2024   Prob (F-statistic):           1.66e-24\n",
            "Time:                        03:45:56   Log-Likelihood:                -263.46\n",
            "No. Observations:                 249   AIC:                             540.9\n",
            "Df Residuals:                     242   BIC:                             565.5\n",
            "Df Model:                           6                                         \n",
            "Covariance Type:            nonrobust                                         \n",
            "==================================================================================\n",
            "                     coef    std err          t      P>|t|      [0.025      0.975]\n",
            "----------------------------------------------------------------------------------\n",
            "const              1.3717      0.175      7.836      0.000       1.027       1.716\n",
            "EADay              2.7940      0.366      7.640      0.000       2.074       3.514\n",
            "VolStock2(t-1)     0.0470      0.043      1.090      0.277      -0.038       0.132\n",
            "VolStock3(t-1)     0.0189      0.019      1.017      0.310      -0.018       0.056\n",
            "VolStock4(t-1)     0.0337      0.036      0.941      0.348      -0.037       0.104\n",
            "VolStock5(t-1)     0.3098      0.042      7.463      0.000       0.228       0.392\n",
            "VolStock6(t-1)    -0.0241      0.040     -0.608      0.543      -0.102       0.054\n",
            "==============================================================================\n",
            "Omnibus:                       28.837   Durbin-Watson:                   1.743\n",
            "Prob(Omnibus):                  0.000   Jarque-Bera (JB):               37.757\n",
            "Skew:                           0.782   Prob(JB):                     6.33e-09\n",
            "Kurtosis:                       4.092   Cond. No.                         68.8\n",
            "==============================================================================\n",
            "\n",
            "Notes:\n",
            "[1] Standard Errors assume that the covariance matrix of the errors is correctly specified.\n"
          ]
        }
      ]
    },
    {
      "cell_type": "code",
      "source": [
        "Xnew = validate_data[['EADay','VolStock2(t-1)', 'VolStock3(t-1)', 'VolStock4(t-1)', 'VolStock5(t-1)', 'VolStock6(t-1)']]\n",
        "\n",
        "Xnew = sm.add_constant(Xnew) # adding a constant\n",
        "\n",
        "vol_pred = EADay_model.predict(Xnew)\n",
        "vol_validate = validate_data['VolStock1(t)']\n",
        "\n",
        "# MSE\n",
        "mse = mean_squared_error(vol_validate, vol_pred)\n",
        "\n",
        "print(f'Mean Squared Error: {mse:.2f}')"
      ],
      "metadata": {
        "colab": {
          "base_uri": "https://localhost:8080/"
        },
        "id": "b4ktImjtzWFN",
        "outputId": "d9cca152-e4cc-40fb-a360-1af3e762a2d8"
      },
      "execution_count": null,
      "outputs": [
        {
          "output_type": "stream",
          "name": "stdout",
          "text": [
            "Mean Squared Error: 1.29\n"
          ]
        }
      ]
    },
    {
      "cell_type": "markdown",
      "source": [
        "## Basic Model 2 - Variables used 'EADay', 'EADayBefore, 'EADayAfter', 'VolStock1(t-1)'"
      ],
      "metadata": {
        "id": "rf2GYGkfEs_m"
      }
    },
    {
      "cell_type": "code",
      "source": [
        "X = train_data[['EADay','EADayBefore', 'EADayAfter']]\n",
        "y = train_data['VolStock1(t)']\n",
        "\n",
        "X = sm.add_constant(X) # adding a constant\n",
        "\n",
        "# Use statsmodels OLS regression\n",
        "\n",
        "EADay_model = sm.OLS(y, X).fit()\n",
        "\n",
        "# To get predicted values of Y, uncomment the following code:\n",
        "vol_predict = EADay_model.predict(X)"
      ],
      "metadata": {
        "id": "jbYXgJrgE-6E"
      },
      "execution_count": null,
      "outputs": []
    },
    {
      "cell_type": "code",
      "source": [
        "print_model = EADay_model.summary()\n",
        "print(print_model)"
      ],
      "metadata": {
        "colab": {
          "base_uri": "https://localhost:8080/"
        },
        "id": "ocGfGOQNIMfy",
        "outputId": "c6b9bcaa-fabb-4a74-94a6-2691fd872873"
      },
      "execution_count": null,
      "outputs": [
        {
          "output_type": "stream",
          "name": "stdout",
          "text": [
            "                            OLS Regression Results                            \n",
            "==============================================================================\n",
            "Dep. Variable:           VolStock1(t)   R-squared:                       0.196\n",
            "Model:                            OLS   Adj. R-squared:                  0.187\n",
            "Method:                 Least Squares   F-statistic:                     19.96\n",
            "Date:                Tue, 26 Mar 2024   Prob (F-statistic):           1.32e-11\n",
            "Time:                        03:45:56   Log-Likelihood:                -299.90\n",
            "No. Observations:                 249   AIC:                             607.8\n",
            "Df Residuals:                     245   BIC:                             621.9\n",
            "Df Model:                           3                                         \n",
            "Covariance Type:            nonrobust                                         \n",
            "===============================================================================\n",
            "                  coef    std err          t      P>|t|      [0.025      0.975]\n",
            "-------------------------------------------------------------------------------\n",
            "const           2.8074      0.053     53.129      0.000       2.703       2.912\n",
            "EADay           2.8551      0.410      6.961      0.000       2.047       3.663\n",
            "EADayBefore     1.1376      0.410      2.773      0.006       0.330       1.945\n",
            "EADayAfter      0.9201      0.410      2.243      0.026       0.112       1.728\n",
            "==============================================================================\n",
            "Omnibus:                       26.223   Durbin-Watson:                   0.852\n",
            "Prob(Omnibus):                  0.000   Jarque-Bera (JB):               31.150\n",
            "Skew:                           0.826   Prob(JB):                     1.72e-07\n",
            "Kurtosis:                       3.521   Cond. No.                         8.09\n",
            "==============================================================================\n",
            "\n",
            "Notes:\n",
            "[1] Standard Errors assume that the covariance matrix of the errors is correctly specified.\n"
          ]
        }
      ]
    },
    {
      "cell_type": "code",
      "source": [
        "Xnew = validate_data[['EADay','EADayBefore', 'EADayAfter']]\n",
        "\n",
        "Xnew = sm.add_constant(Xnew) # adding a constant\n",
        "\n",
        "vol_pred = EADay_model.predict(Xnew)\n",
        "vol_validate = validate_data['VolStock1(t)']\n",
        "\n",
        "# MSE\n",
        "mse = mean_squared_error(vol_validate, vol_pred)\n",
        "\n",
        "print(f'Mean Squared Error: {mse:.2f}')"
      ],
      "metadata": {
        "colab": {
          "base_uri": "https://localhost:8080/"
        },
        "id": "xku9__hGIPN3",
        "outputId": "7e3380c7-66b7-459b-8287-d05a13b4097e"
      },
      "execution_count": null,
      "outputs": [
        {
          "output_type": "stream",
          "name": "stdout",
          "text": [
            "Mean Squared Error: 1.68\n"
          ]
        }
      ]
    },
    {
      "cell_type": "markdown",
      "source": [
        "##OLS Model"
      ],
      "metadata": {
        "id": "v2Isvfom3yNq"
      }
    },
    {
      "cell_type": "code",
      "source": [
        "X = train_data[['EADay', 'EADayAfter', 'EADayBefore',\n",
        "                'DayOfWeek_Monday', 'DayOfWeek_Tuesday', 'DayOfWeek_Wednesday', 'DayOfWeek_Thursday', 'DayOfWeek_Friday',\n",
        "                'Month_3', 'Month_4', 'Month_5', 'Month_6', 'Month_7', 'Month_8', 'Month_9', 'Month_10', 'Month_11', 'Month_12','Month_13', 'Month_14',\n",
        "                'EMA_2', 'EMA_3', 'EMA_4', 'EMA_5', 'EMA_6']]\n",
        "y = train_data['VolStock1(t)']\n",
        "\n",
        "X = sm.add_constant(X) # adding a constant\n",
        "\n",
        "# Use statsmodels OLS regression\n",
        "\n",
        "ols_model = sm.OLS(y, X).fit()\n",
        "\n",
        "# To get predicted values of Y, uncomment the following code:\n",
        "vol_predict = ols_model.predict(X)"
      ],
      "metadata": {
        "id": "aaAHdtti3p9S"
      },
      "execution_count": null,
      "outputs": []
    },
    {
      "cell_type": "code",
      "source": [
        "print_model = ols_model.summary()\n",
        "print(print_model)"
      ],
      "metadata": {
        "colab": {
          "base_uri": "https://localhost:8080/"
        },
        "id": "gkVl42QM38iX",
        "outputId": "2e0be4e1-b17e-48f9-d3e3-b38aa328d9f0"
      },
      "execution_count": null,
      "outputs": [
        {
          "output_type": "stream",
          "name": "stdout",
          "text": [
            "                            OLS Regression Results                            \n",
            "==============================================================================\n",
            "Dep. Variable:           VolStock1(t)   R-squared:                       0.496\n",
            "Model:                            OLS   Adj. R-squared:                  0.444\n",
            "Method:                 Least Squares   F-statistic:                     9.626\n",
            "Date:                Tue, 26 Mar 2024   Prob (F-statistic):           1.14e-22\n",
            "Time:                        03:45:56   Log-Likelihood:                -241.82\n",
            "No. Observations:                 249   AIC:                             531.6\n",
            "Df Residuals:                     225   BIC:                             616.1\n",
            "Df Model:                          23                                         \n",
            "Covariance Type:            nonrobust                                         \n",
            "=======================================================================================\n",
            "                          coef    std err          t      P>|t|      [0.025      0.975]\n",
            "---------------------------------------------------------------------------------------\n",
            "const                   0.8925      0.231      3.865      0.000       0.437       1.347\n",
            "EADay                   3.1755      0.368      8.636      0.000       2.451       3.900\n",
            "EADayAfter              1.2771      0.426      2.994      0.003       0.437       2.118\n",
            "EADayBefore             1.3272      0.368      3.605      0.000       0.602       2.053\n",
            "DayOfWeek_Monday        0.1392      0.107      1.301      0.194      -0.072       0.350\n",
            "DayOfWeek_Tuesday       0.0628      0.100      0.630      0.529      -0.134       0.259\n",
            "DayOfWeek_Wednesday     0.1236      0.098      1.265      0.207      -0.069       0.316\n",
            "DayOfWeek_Thursday      0.3816      0.096      3.985      0.000       0.193       0.570\n",
            "DayOfWeek_Friday        0.1852      0.099      1.879      0.061      -0.009       0.379\n",
            "Month_3                 0.3330      0.215      1.550      0.122      -0.090       0.756\n",
            "Month_4                 0.1229      0.168      0.733      0.465      -0.208       0.453\n",
            "Month_5                 0.2498      0.168      1.484      0.139      -0.082       0.582\n",
            "Month_6                -0.0192      0.148     -0.130      0.897      -0.311       0.272\n",
            "Month_7                 0.1365      0.155      0.878      0.381      -0.170       0.443\n",
            "Month_8                 0.1310      0.143      0.916      0.361      -0.151       0.413\n",
            "Month_9                -0.2116      0.156     -1.355      0.177      -0.519       0.096\n",
            "Month_10                0.0431      0.166      0.259      0.796      -0.285       0.371\n",
            "Month_11                0.1026      0.143      0.718      0.473      -0.179       0.384\n",
            "Month_12               -0.0726      0.183     -0.397      0.691      -0.433       0.287\n",
            "Month_13                0.2071      0.158      1.313      0.191      -0.104       0.518\n",
            "Month_14               -0.1301      0.176     -0.739      0.461      -0.477       0.217\n",
            "EMA_2                  -0.1599      0.092     -1.732      0.085      -0.342       0.022\n",
            "EMA_3                   0.0179      0.032      0.551      0.582      -0.046       0.082\n",
            "EMA_4                   0.1110      0.072      1.548      0.123      -0.030       0.252\n",
            "EMA_5                   0.4599      0.073      6.307      0.000       0.316       0.604\n",
            "EMA_6                  -0.0257      0.076     -0.339      0.735      -0.175       0.124\n",
            "==============================================================================\n",
            "Omnibus:                       24.331   Durbin-Watson:                   1.492\n",
            "Prob(Omnibus):                  0.000   Jarque-Bera (JB):               30.166\n",
            "Skew:                           0.708   Prob(JB):                     2.82e-07\n",
            "Kurtosis:                       3.950   Cond. No.                     4.76e+16\n",
            "==============================================================================\n",
            "\n",
            "Notes:\n",
            "[1] Standard Errors assume that the covariance matrix of the errors is correctly specified.\n",
            "[2] The smallest eigenvalue is 7.65e-30. This might indicate that there are\n",
            "strong multicollinearity problems or that the design matrix is singular.\n"
          ]
        }
      ]
    },
    {
      "cell_type": "code",
      "source": [
        "Xnew = validate_data[['EADay', 'EADayAfter', 'EADayBefore',\n",
        "                      'DayOfWeek_Monday', 'DayOfWeek_Tuesday', 'DayOfWeek_Wednesday', 'DayOfWeek_Thursday', 'DayOfWeek_Friday',\n",
        "                      'Month_3', 'Month_4', 'Month_5', 'Month_6', 'Month_7', 'Month_8', 'Month_9', 'Month_10', 'Month_11', 'Month_12', 'Month_13', 'Month_14',\n",
        "                      'EMA_2', 'EMA_3', 'EMA_4', 'EMA_5', 'EMA_6']]\n",
        "\n",
        "Xnew = sm.add_constant(Xnew) # adding a constant\n",
        "\n",
        "vol_pred = ols_model.predict(Xnew)\n",
        "vol_validate = validate_data['VolStock1(t)']\n",
        "\n",
        "# MSE\n",
        "mse = mean_squared_error(vol_validate, vol_pred)\n",
        "\n",
        "print(f'Mean Squared Error: {mse:.2f}')"
      ],
      "metadata": {
        "colab": {
          "base_uri": "https://localhost:8080/"
        },
        "id": "PiC879Z04Dlh",
        "outputId": "a6792d98-1fa0-499f-d4a1-f2fa0da294b4"
      },
      "execution_count": null,
      "outputs": [
        {
          "output_type": "stream",
          "name": "stdout",
          "text": [
            "Mean Squared Error: 1.18\n"
          ]
        }
      ]
    },
    {
      "cell_type": "markdown",
      "source": [
        "If we take into consideration all the days of the week and all the months with the moving averages of the competetive stocks we get a mean squared error of 1.18. R-squared: The coefficient of determination (R-squared) measures the proportion of the variance in the dependent variable that is predictable from the independent variables. In this model, R-squared is 0.496, indicating that approximately 49.6% of the variability in 'VolStock1(t)' is explained by the independent variables."
      ],
      "metadata": {
        "id": "LeTORWEdxTG2"
      }
    },
    {
      "cell_type": "markdown",
      "source": [
        "##OLS Model 2"
      ],
      "metadata": {
        "id": "S_yVh6xOy7ZH"
      }
    },
    {
      "cell_type": "code",
      "source": [
        "X = train_data[['EADay', 'EADayAfter', 'EADayBefore',\n",
        "                'DayOfWeek_Monday', 'DayOfWeek_Tuesday', 'DayOfWeek_Wednesday',\n",
        "                'Month_3',  'Month_6', 'Month_9', 'Month_12',\n",
        "                'EMA_2', 'EMA_3', 'EMA_4', 'EMA_5', 'EMA_6']]\n",
        "y = train_data['VolStock1(t)']\n",
        "\n",
        "X = sm.add_constant(X) # adding a constant\n",
        "\n",
        "# Use statsmodels OLS regression\n",
        "\n",
        "ols_model_2 = sm.OLS(y, X).fit()\n",
        "\n",
        "# To get predicted values of Y, uncomment the following code:\n",
        "vol_predict = ols_model_2.predict(X)"
      ],
      "metadata": {
        "id": "ttxOjeGqy6Ye"
      },
      "execution_count": null,
      "outputs": []
    },
    {
      "cell_type": "code",
      "source": [
        "print_model = ols_model_2.summary()\n",
        "print(print_model)"
      ],
      "metadata": {
        "colab": {
          "base_uri": "https://localhost:8080/"
        },
        "id": "GagGKW8kzdzd",
        "outputId": "063d3157-184e-4831-bf07-45b5e156fae0"
      },
      "execution_count": null,
      "outputs": [
        {
          "output_type": "stream",
          "name": "stdout",
          "text": [
            "                            OLS Regression Results                            \n",
            "==============================================================================\n",
            "Dep. Variable:           VolStock1(t)   R-squared:                       0.482\n",
            "Model:                            OLS   Adj. R-squared:                  0.449\n",
            "Method:                 Least Squares   F-statistic:                     14.47\n",
            "Date:                Tue, 26 Mar 2024   Prob (F-statistic):           7.95e-26\n",
            "Time:                        03:45:57   Log-Likelihood:                -245.14\n",
            "No. Observations:                 249   AIC:                             522.3\n",
            "Df Residuals:                     233   BIC:                             578.6\n",
            "Df Model:                          15                                         \n",
            "Covariance Type:            nonrobust                                         \n",
            "=======================================================================================\n",
            "                          coef    std err          t      P>|t|      [0.025      0.975]\n",
            "---------------------------------------------------------------------------------------\n",
            "const                   1.2327      0.243      5.069      0.000       0.754       1.712\n",
            "EADay                   3.1481      0.366      8.613      0.000       2.428       3.868\n",
            "EADayAfter              1.2577      0.417      3.013      0.003       0.435       2.080\n",
            "EADayBefore             1.2990      0.366      3.548      0.000       0.578       2.020\n",
            "DayOfWeek_Monday       -0.1353      0.125     -1.086      0.279      -0.381       0.110\n",
            "DayOfWeek_Tuesday      -0.2106      0.119     -1.767      0.079      -0.445       0.024\n",
            "DayOfWeek_Wednesday    -0.1584      0.120     -1.323      0.187      -0.394       0.078\n",
            "Month_3                 0.1861      0.220      0.846      0.398      -0.247       0.619\n",
            "Month_6                -0.1435      0.166     -0.866      0.387      -0.470       0.183\n",
            "Month_9                -0.3181      0.167     -1.910      0.057      -0.646       0.010\n",
            "Month_12               -0.2294      0.196     -1.170      0.243      -0.616       0.157\n",
            "EMA_2                  -0.1580      0.084     -1.883      0.061      -0.323       0.007\n",
            "EMA_3                   0.0289      0.031      0.919      0.359      -0.033       0.091\n",
            "EMA_4                   0.1260      0.060      2.112      0.036       0.008       0.244\n",
            "EMA_5                   0.4367      0.053      8.264      0.000       0.333       0.541\n",
            "EMA_6                  -0.0121      0.066     -0.182      0.856      -0.142       0.118\n",
            "==============================================================================\n",
            "Omnibus:                       27.443   Durbin-Watson:                   1.488\n",
            "Prob(Omnibus):                  0.000   Jarque-Bera (JB):               35.447\n",
            "Skew:                           0.757   Prob(JB):                     2.01e-08\n",
            "Kurtosis:                       4.059   Cond. No.                         86.6\n",
            "==============================================================================\n",
            "\n",
            "Notes:\n",
            "[1] Standard Errors assume that the covariance matrix of the errors is correctly specified.\n"
          ]
        }
      ]
    },
    {
      "cell_type": "code",
      "source": [
        "Xnew = validate_data[['EADay', 'EADayAfter', 'EADayBefore',\n",
        "                      'DayOfWeek_Monday', 'DayOfWeek_Tuesday', 'DayOfWeek_Wednesday',\n",
        "                      'Month_3', 'Month_6', 'Month_9', 'Month_12',\n",
        "                      'EMA_2', 'EMA_3', 'EMA_4', 'EMA_5', 'EMA_6']]\n",
        "\n",
        "Xnew = sm.add_constant(Xnew) # adding a constant\n",
        "\n",
        "vol_pred = ols_model_2.predict(Xnew)\n",
        "vol_validate = validate_data['VolStock1(t)']\n",
        "\n",
        "# MSE\n",
        "mse = mean_squared_error(vol_validate, vol_pred)\n",
        "\n",
        "print(f'Mean Squared Error: {mse:.2f}')"
      ],
      "metadata": {
        "colab": {
          "base_uri": "https://localhost:8080/"
        },
        "id": "zc3OpEjNzkCV",
        "outputId": "9acd31bc-3c4c-408d-cf56-69ef3e4a81b9"
      },
      "execution_count": null,
      "outputs": [
        {
          "output_type": "stream",
          "name": "stdout",
          "text": [
            "Mean Squared Error: 1.16\n"
          ]
        }
      ]
    },
    {
      "cell_type": "markdown",
      "source": [
        "In this model, we incorporate factors related to Earnings Announcements and quarterly trends to better understand the volume of stock trading. Earnings Announcements typically occur on Tuesdays, influencing trading behaviors. As a result, we consider the trading volumes on Mondays, Tuesdays, and Wednesdays. Mondays often exhibit heightened trading activity due to market predictions ahead of announcements, while Wednesdays may see corrections or adjustments based on the announced earnings.\n",
        "\n",
        "Additionally, we account for quarterly trends, as earnings are typically reported on a quarterly basis. Therefore, we include the months corresponding to earnings announcement periods in our analysis. These months tend to experience increased trading volumes, reflecting the market's reaction to earnings releases.\n",
        "\n",
        "We get a lower mean square error of 1.16"
      ],
      "metadata": {
        "id": "D0hEH6U-zwmE"
      }
    },
    {
      "cell_type": "markdown",
      "source": [
        "## ARIMA Model"
      ],
      "metadata": {
        "id": "Xo1UzRqKnwY1"
      }
    },
    {
      "cell_type": "code",
      "source": [
        "from statsmodels.tsa.stattools import adfuller\n",
        "\n",
        "# Perform Augmented Dickey-Fuller test\n",
        "result = adfuller(train_data['VolStock1(t)'])\n",
        "\n",
        "# Print the results\n",
        "print('ADF Statistic: %f' % result[0])\n",
        "print('p-value: %f' % result[1])\n",
        "print('Critical Values:')\n",
        "for key, value in result[4].items():\n",
        "    print('\\t%s: %.3f' % (key, value))"
      ],
      "metadata": {
        "colab": {
          "base_uri": "https://localhost:8080/"
        },
        "id": "MS4W2nuRNcwF",
        "outputId": "a03ff382-eb0f-4610-d769-1263ef6e60fd"
      },
      "execution_count": null,
      "outputs": [
        {
          "output_type": "stream",
          "name": "stdout",
          "text": [
            "ADF Statistic: -6.564237\n",
            "p-value: 0.000000\n",
            "Critical Values:\n",
            "\t1%: -3.457\n",
            "\t5%: -2.873\n",
            "\t10%: -2.573\n"
          ]
        }
      ]
    },
    {
      "cell_type": "markdown",
      "source": [
        "We can see that the p-value is less than 0.05 this means we failed to reject null hypothesis rejected and we will take this series as stationary. Let’s make a plot of this data."
      ],
      "metadata": {
        "id": "SX7UI3AhOQBi"
      }
    },
    {
      "cell_type": "code",
      "source": [
        "plt.figure(figsize=(4, 2))\n",
        "train_data['VolStock1(t)'].plot()"
      ],
      "metadata": {
        "colab": {
          "base_uri": "https://localhost:8080/",
          "height": 233
        },
        "id": "S21M5U0yOXdf",
        "outputId": "691e86fb-a3c0-4a21-c04a-0752e470a445"
      },
      "execution_count": null,
      "outputs": [
        {
          "output_type": "execute_result",
          "data": {
            "text/plain": [
              "<Axes: >"
            ]
          },
          "metadata": {},
          "execution_count": 661
        },
        {
          "output_type": "display_data",
          "data": {
            "text/plain": [
              "<Figure size 400x200 with 1 Axes>"
            ],
            "image/png": "[encoded data removed]"
          },
          "metadata": {}
        }
      ]
    },
    {
      "cell_type": "markdown",
      "source": [
        "##PACF"
      ],
      "metadata": {
        "id": "USFPEWreRjo5"
      }
    },
    {
      "cell_type": "code",
      "source": [
        "import matplotlib.pyplot as plt\n",
        "from statsmodels.graphics.tsaplots import plot_pacf\n",
        "\n",
        "# Create a new figure\n",
        "fig = plt.figure(figsize=(4, 2))\n",
        "\n",
        "# Suppress automatic plot display within plot_pacf\n",
        "plt.ioff()\n",
        "\n",
        "# Generate only the PACF plot\n",
        "plot_pacf(train_data['VolStock1(t)'].diff().diff().dropna())\n",
        "\n",
        "# Show the figure with only the PACF plot\n",
        "plt.ion()  # Re-enable interactive plotting\n",
        "plt.show()"
      ],
      "metadata": {
        "colab": {
          "base_uri": "https://localhost:8080/",
          "height": 469
        },
        "id": "fw2zIAGTRlAY",
        "outputId": "e572142f-75f5-49b0-d470-5d78c2f3e7e5"
      },
      "execution_count": null,
      "outputs": [
        {
          "output_type": "display_data",
          "data": {
            "text/plain": [
              "<Figure size 400x200 with 0 Axes>"
            ]
          },
          "metadata": {}
        },
        {
          "output_type": "display_data",
          "data": {
            "text/plain": [
              "<Figure size 640x480 with 1 Axes>"
            ],
            "image/png": "[encoded data removed]"
          },
          "metadata": {}
        }
      ]
    },
    {
      "cell_type": "markdown",
      "source": [
        "Here we can see that the first lag is significantly out of the limit and the second one is also out of the significant limit but it is not that far so we can select the order of the p as 2 or 3"
      ],
      "metadata": {
        "id": "pdfllAESTLYU"
      }
    },
    {
      "cell_type": "markdown",
      "source": [
        "## ACF"
      ],
      "metadata": {
        "id": "Ylq0yISYPzvd"
      }
    },
    {
      "cell_type": "code",
      "source": [
        "from statsmodels.graphics.tsaplots import plot_acf\n",
        "import matplotlib.pyplot as plt\n",
        "\n",
        "plt.figure(figsize=(4, 2))\n",
        "plot_acf(train_data['VolStock1(t)'].diff().diff().dropna())\n",
        "plt.show()"
      ],
      "metadata": {
        "colab": {
          "base_uri": "https://localhost:8080/",
          "height": 469
        },
        "id": "ad8vj4SjPzG_",
        "outputId": "18ec3c52-b92d-4938-dec3-f4e02b4707e3"
      },
      "execution_count": null,
      "outputs": [
        {
          "output_type": "display_data",
          "data": {
            "text/plain": [
              "<Figure size 400x200 with 0 Axes>"
            ]
          },
          "metadata": {}
        },
        {
          "output_type": "display_data",
          "data": {
            "text/plain": [
              "<Figure size 640x480 with 1 Axes>"
            ],
            "image/png": "[encoded data removed]"
          },
          "metadata": {}
        }
      ]
    },
    {
      "cell_type": "markdown",
      "source": [
        "Here we can see that 3 of the lags are out of the significance limit so we can say that the optimal value of our q (MA) is 3."
      ],
      "metadata": {
        "id": "GqGXcU4YRd_7"
      }
    },
    {
      "cell_type": "code",
      "source": [
        "from statsmodels.tsa.arima.model import ARIMA\n",
        "from sklearn.metrics import mean_squared_error\n",
        "\n",
        "# Fit ARIMA model with optimal (p, d, q) values\n",
        "optimal_pdq = (2, 0, 3)  # Replace with your optimal values\n",
        "model = ARIMA(train_data['VolStock1(t)'], order=optimal_pdq)\n",
        "arima_fitted_model = model.fit()\n",
        "\n",
        "# Forecast on validation data\n",
        "forecast = arima_fitted_model.forecast(steps=len(validate_data))\n",
        "\n",
        "# Calculate MSE\n",
        "mse = mean_squared_error(validate_data['VolStock1(t)'], forecast)\n",
        "print(\"Mean Squared Error (MSE) on validation data:\", mse)\n"
      ],
      "metadata": {
        "colab": {
          "base_uri": "https://localhost:8080/"
        },
        "id": "n-23kvyud5aY",
        "outputId": "f30f09a3-df65-4104-96f5-3888944741cc"
      },
      "execution_count": null,
      "outputs": [
        {
          "output_type": "stream",
          "name": "stderr",
          "text": [
            "/usr/local/lib/python3.10/dist-packages/statsmodels/tsa/base/tsa_model.py:473: ValueWarning: An unsupported index was provided and will be ignored when e.g. forecasting.\n",
            "  self._init_dates(dates, freq)\n",
            "/usr/local/lib/python3.10/dist-packages/statsmodels/tsa/base/tsa_model.py:473: ValueWarning: An unsupported index was provided and will be ignored when e.g. forecasting.\n",
            "  self._init_dates(dates, freq)\n",
            "/usr/local/lib/python3.10/dist-packages/statsmodels/tsa/base/tsa_model.py:473: ValueWarning: An unsupported index was provided and will be ignored when e.g. forecasting.\n",
            "  self._init_dates(dates, freq)\n"
          ]
        },
        {
          "output_type": "stream",
          "name": "stdout",
          "text": [
            "Mean Squared Error (MSE) on validation data: 2.0199154280926197\n"
          ]
        },
        {
          "output_type": "stream",
          "name": "stderr",
          "text": [
            "/usr/local/lib/python3.10/dist-packages/statsmodels/tsa/base/tsa_model.py:836: ValueWarning: No supported index is available. Prediction results will be given with an integer index beginning at `start`.\n",
            "  return get_prediction_index(\n",
            "/usr/local/lib/python3.10/dist-packages/statsmodels/tsa/base/tsa_model.py:836: FutureWarning: No supported index is available. In the next version, calling this method in a model without a supported index will result in an exception.\n",
            "  return get_prediction_index(\n"
          ]
        }
      ]
    },
    {
      "cell_type": "markdown",
      "source": [
        "The code utilizes the statsmodels.tsa.arima.model.ARIMA class to fit an ARIMA model to the training data (train_data['VolStock1(t)']).\n",
        "The optimal_pdq variable (currently replaced with a placeholder) should hold the optimal values for the model parameters:\n",
        "p: Number of autoregressive terms (past values used for prediction)\n",
        "d: Degree of differencing needed to achieve stationarity (removing trends)\n",
        "q: Number of moving average terms for past errors\n",
        "\n",
        "The Mean Squared Error (MSE) is calculated between the actual values in the validation data (validate_data['VolStock1(t)']) and the generated forecasts.\n",
        "The provided output \"Mean Squared Error (MSE) on validation data: 2.0199\" indicates the average squared difference between the predicted and actual volume values on the validation set."
      ],
      "metadata": {
        "id": "_JMRv4tu0qW6"
      }
    },
    {
      "cell_type": "code",
      "source": [
        "from statsmodels.tsa.statespace.sarimax import SARIMAX\n",
        "from sklearn.metrics import mean_squared_error\n",
        "\n",
        "# Fit SARIMAX model with optimal (p, d, q) and seasonal (P, D, Q, s) values and exogenous variables\n",
        "optimal_pdq = (2, 0, 3)  # Replace with your optimal non-seasonal values\n",
        "optimal_seasonal_pdq = (0, 0, 0, 5)  # Replace with your optimal seasonal values\n",
        "exog_vars = ['EADay', 'EADayAfter', 'EADayBefore',\n",
        "             'DayOfWeek_Monday', 'DayOfWeek_Tuesday', 'DayOfWeek_Wednesday', 'DayOfWeek_Thursday', 'DayOfWeek_Friday',\n",
        "             'Month_3', 'Month_4', 'Month_5', 'Month_6', 'Month_7', 'Month_8' ,'Month_9', 'Month_10', 'Month_11', 'Month_12', 'Month_13', 'Month_14',\n",
        "             'EMA_2', 'EMA_3', 'EMA_4', 'EMA_5', 'EMA_6']\n",
        "model = SARIMAX(train_data['VolStock1(t)'], exog=train_data[exog_vars], order=optimal_pdq, seasonal_order=optimal_seasonal_pdq)\n",
        "fitted_model = model.fit()\n",
        "\n",
        "# Forecast on validation data with exogenous variables\n",
        "forecast = fitted_model.forecast(steps=len(validate_data), exog=validate_data[exog_vars])\n",
        "\n",
        "# Calculate MSE\n",
        "mse = mean_squared_error(validate_data['VolStock1(t)'], forecast)\n",
        "print(f'Mean Squared Error: {mse:.2f}')"
      ],
      "metadata": {
        "colab": {
          "base_uri": "https://localhost:8080/"
        },
        "id": "2M8w1s_J3a5h",
        "outputId": "a2a9be86-9e2d-4833-e189-75be4cff03f7"
      },
      "execution_count": null,
      "outputs": [
        {
          "output_type": "stream",
          "name": "stderr",
          "text": [
            "/usr/local/lib/python3.10/dist-packages/statsmodels/tsa/base/tsa_model.py:473: ValueWarning: An unsupported index was provided and will be ignored when e.g. forecasting.\n",
            "  self._init_dates(dates, freq)\n",
            "/usr/local/lib/python3.10/dist-packages/statsmodels/tsa/base/tsa_model.py:473: ValueWarning: An unsupported index was provided and will be ignored when e.g. forecasting.\n",
            "  self._init_dates(dates, freq)\n"
          ]
        },
        {
          "output_type": "stream",
          "name": "stdout",
          "text": [
            "Mean Squared Error: 1.13\n"
          ]
        },
        {
          "output_type": "stream",
          "name": "stderr",
          "text": [
            "/usr/local/lib/python3.10/dist-packages/statsmodels/base/model.py:607: ConvergenceWarning: Maximum Likelihood optimization failed to converge. Check mle_retvals\n",
            "  warnings.warn(\"Maximum Likelihood optimization failed to \"\n",
            "/usr/local/lib/python3.10/dist-packages/statsmodels/tsa/base/tsa_model.py:836: ValueWarning: No supported index is available. Prediction results will be given with an integer index beginning at `start`.\n",
            "  return get_prediction_index(\n",
            "/usr/local/lib/python3.10/dist-packages/statsmodels/tsa/base/tsa_model.py:836: FutureWarning: No supported index is available. In the next version, calling this method in a model without a supported index will result in an exception.\n",
            "  return get_prediction_index(\n"
          ]
        }
      ]
    },
    {
      "cell_type": "markdown",
      "source": [
        "The ARIMA model, while effective for time series analysis, has limitations in capturing the complexities of real-world data, especially when considering multiple influencing factors. To address this, we employ the ARIMAX model, which extends the ARIMA framework to incorporate exogenous variables.\n",
        "\n",
        "In this ARIMAX model, we leverage the inclusion of various relevant variables to enhance prediction accuracy. By considering all available columns in our dataset, we capture a broader range of factors that could impact the target variable.\n",
        "\n",
        "Furthermore, to account for the weekly seasonality present in the data, we set the seasonal period (m) to 5, corresponding to the five trading days in a week. This allows the model to better capture recurring patterns and fluctuations over the course of a week.\n",
        "\n",
        "The evaluation of the model's performance is crucial in assessing its effectiveness. With a mean squared error (MSE) of 1.13, our ARIMAX model demonstrates significantly improved predictive accuracy compared to the ARIMA model. This lower MSE indicates that our model's predictions are closer to the actual values, suggesting better overall performance.\n",
        "\n",
        "By leveraging the ARIMAX framework and considering a comprehensive set of variables, we have achieved enhanced predictive capabilities, as evidenced by the notable improvement in MSE. This underscores the effectiveness of the ARIMAX model in capturing the complexities of our dataset and providing more accurate forecasts.\"\n",
        "\n",
        "This revised explanation provides a clearer and more detailed overview of the ARIMAX model, its advantages over ARIMA, the rationale for including exogenous variables, and the significance of the obtained MSE value."
      ],
      "metadata": {
        "id": "Hxm_3vwt1JYg"
      }
    },
    {
      "cell_type": "markdown",
      "source": [
        "## Write prediction results to CSV file for final out-of-sample \"test sample\" to CSV file"
      ],
      "metadata": {
        "id": "xfspqHATnf4P"
      }
    },
    {
      "cell_type": "code",
      "source": [
        "test_data"
      ],
      "metadata": {
        "colab": {
          "base_uri": "https://localhost:8080/",
          "height": 461
        },
        "id": "a49QxR8avbT0",
        "outputId": "9d5bb95a-c29c-4f75-a7a6-61cbe896e5a5"
      },
      "execution_count": null,
      "outputs": [
        {
          "output_type": "execute_result",
          "data": {
            "text/plain": [
              "     ObsNum TrainTest  VolStock1(t)  EADay  EADayBefore  EADayAfter  \\\n",
              "503     504      Test           NaN      0            0           0   \n",
              "504     505      Test           NaN      0            0           0   \n",
              "505     506      Test           NaN      0            0           0   \n",
              "506     507      Test           NaN      0            0           0   \n",
              "507     508      Test           NaN      0            0           0   \n",
              "..      ...       ...           ...    ...          ...         ...   \n",
              "748     749      Test           NaN      0            0           0   \n",
              "749     750      Test           NaN      0            0           0   \n",
              "750     751      Test           NaN      0            0           0   \n",
              "751     752      Test           NaN      0            0           0   \n",
              "752     753      Test           NaN      0            0           0   \n",
              "\n",
              "     VolStock1(t-1)  VolStock2(t-1)  VolStock3(t-1)  VolStock4(t-1)  ...  \\\n",
              "503            2.86            3.57            5.89            6.53  ...   \n",
              "504             NaN            4.42            8.15            5.98  ...   \n",
              "505             NaN            3.45            7.26            4.67  ...   \n",
              "506             NaN            5.27            7.80            5.07  ...   \n",
              "507             NaN            3.67            5.91            4.90  ...   \n",
              "..              ...             ...             ...             ...  ...   \n",
              "748             NaN            3.35            2.34            2.14  ...   \n",
              "749             NaN            2.12            1.76            1.80  ...   \n",
              "750             NaN            2.47            2.22            2.40  ...   \n",
              "751             NaN            2.04            1.49            2.15  ...   \n",
              "752             NaN            2.37            2.39            2.72  ...   \n",
              "\n",
              "      SMA_2   SMA_3   SMA_4   SMA_5   SMA_6     EMA_2     EMA_3     EMA_4  \\\n",
              "503     NaN     NaN     NaN     NaN     NaN  3.570000  5.890000  6.530000   \n",
              "504     NaN     NaN     NaN     NaN     NaN  3.910000  6.794000  6.310000   \n",
              "505     NaN     NaN     NaN     NaN     NaN  3.726000  6.980400  5.654000   \n",
              "506  4.1775  7.2750  5.5625  4.0700  2.8150  4.343600  7.308240  5.420400   \n",
              "507  4.2025  7.2800  5.1550  3.6150  2.7050  4.074160  6.748944  5.212240   \n",
              "..      ...     ...     ...     ...     ...       ...       ...       ...   \n",
              "748  4.0550  3.0075  2.7775  1.9250  1.5025  3.953212  3.067033  2.748381   \n",
              "749  3.7800  2.6125  2.4225  1.7975  1.3325  3.219927  2.544220  2.369029   \n",
              "750  2.8525  2.1800  2.2800  1.7500  1.1550  2.919956  2.414532  2.381417   \n",
              "751  2.4950  1.9525  2.1225  1.6125  1.0675  2.567974  2.044719  2.288850   \n",
              "752  2.2500  1.9650  2.2675  1.6700  1.1650  2.488784  2.182831  2.461310   \n",
              "\n",
              "        EMA_5     EMA_6  \n",
              "503  4.930000  2.910000  \n",
              "504  4.526000  2.790000  \n",
              "505  4.143600  2.706000  \n",
              "506  4.030160  2.887600  \n",
              "507  3.662096  2.720560  \n",
              "..        ...       ...  \n",
              "748  2.045426  1.532384  \n",
              "749  1.731256  1.299430  \n",
              "750  1.874753  1.255658  \n",
              "751  1.716852  1.161395  \n",
              "752  1.770111  1.296837  \n",
              "\n",
              "[250 rows x 39 columns]"
            ],
            "text/html": [
              "\n",
              "  <div id=\"df-8e0efd97-01f0-408c-ba15-31f174d8b986\" class=\"colab-df-container\">\n",
              "    <div>\n",
              "<style scoped>\n",
              "    .dataframe tbody tr th:only-of-type {\n",
              "        vertical-align: middle;\n",
              "    }\n",
              "\n",
              "    .dataframe tbody tr th {\n",
              "        vertical-align: top;\n",
              "    }\n",
              "\n",
              "    .dataframe thead th {\n",
              "        text-align: right;\n",
              "    }\n",
              "</style>\n",
              "<table border=\"1\" class=\"dataframe\">\n",
              "  <thead>\n",
              "    <tr style=\"text-align: right;\">\n",
              "      <th></th>\n",
              "      <th>ObsNum</th>\n",
              "      <th>TrainTest</th>\n",
              "      <th>VolStock1(t)</th>\n",
              "      <th>EADay</th>\n",
              "      <th>EADayBefore</th>\n",
              "      <th>EADayAfter</th>\n",
              "      <th>VolStock1(t-1)</th>\n",
              "      <th>VolStock2(t-1)</th>\n",
              "      <th>VolStock3(t-1)</th>\n",
              "      <th>VolStock4(t-1)</th>\n",
              "      <th>...</th>\n",
              "      <th>SMA_2</th>\n",
              "      <th>SMA_3</th>\n",
              "      <th>SMA_4</th>\n",
              "      <th>SMA_5</th>\n",
              "      <th>SMA_6</th>\n",
              "      <th>EMA_2</th>\n",
              "      <th>EMA_3</th>\n",
              "      <th>EMA_4</th>\n",
              "      <th>EMA_5</th>\n",
              "      <th>EMA_6</th>\n",
              "    </tr>\n",
              "  </thead>\n",
              "  <tbody>\n",
              "    <tr>\n",
              "      <th>503</th>\n",
              "      <td>504</td>\n",
              "      <td>Test</td>\n",
              "      <td>NaN</td>\n",
              "      <td>0</td>\n",
              "      <td>0</td>\n",
              "      <td>0</td>\n",
              "      <td>2.86</td>\n",
              "      <td>3.57</td>\n",
              "      <td>5.89</td>\n",
              "      <td>6.53</td>\n",
              "      <td>...</td>\n",
              "      <td>NaN</td>\n",
              "      <td>NaN</td>\n",
              "      <td>NaN</td>\n",
              "      <td>NaN</td>\n",
              "      <td>NaN</td>\n",
              "      <td>3.570000</td>\n",
              "      <td>5.890000</td>\n",
              "      <td>6.530000</td>\n",
              "      <td>4.930000</td>\n",
              "      <td>2.910000</td>\n",
              "    </tr>\n",
              "    <tr>\n",
              "      <th>504</th>\n",
              "      <td>505</td>\n",
              "      <td>Test</td>\n",
              "      <td>NaN</td>\n",
              "      <td>0</td>\n",
              "      <td>0</td>\n",
              "      <td>0</td>\n",
              "      <td>NaN</td>\n",
              "      <td>4.42</td>\n",
              "      <td>8.15</td>\n",
              "      <td>5.98</td>\n",
              "      <td>...</td>\n",
              "      <td>NaN</td>\n",
              "      <td>NaN</td>\n",
              "      <td>NaN</td>\n",
              "      <td>NaN</td>\n",
              "      <td>NaN</td>\n",
              "      <td>3.910000</td>\n",
              "      <td>6.794000</td>\n",
              "      <td>6.310000</td>\n",
              "      <td>4.526000</td>\n",
              "      <td>2.790000</td>\n",
              "    </tr>\n",
              "    <tr>\n",
              "      <th>505</th>\n",
              "      <td>506</td>\n",
              "      <td>Test</td>\n",
              "      <td>NaN</td>\n",
              "      <td>0</td>\n",
              "      <td>0</td>\n",
              "      <td>0</td>\n",
              "      <td>NaN</td>\n",
              "      <td>3.45</td>\n",
              "      <td>7.26</td>\n",
              "      <td>4.67</td>\n",
              "      <td>...</td>\n",
              "      <td>NaN</td>\n",
              "      <td>NaN</td>\n",
              "      <td>NaN</td>\n",
              "      <td>NaN</td>\n",
              "      <td>NaN</td>\n",
              "      <td>3.726000</td>\n",
              "      <td>6.980400</td>\n",
              "      <td>5.654000</td>\n",
              "      <td>4.143600</td>\n",
              "      <td>2.706000</td>\n",
              "    </tr>\n",
              "    <tr>\n",
              "      <th>506</th>\n",
              "      <td>507</td>\n",
              "      <td>Test</td>\n",
              "      <td>NaN</td>\n",
              "      <td>0</td>\n",
              "      <td>0</td>\n",
              "      <td>0</td>\n",
              "      <td>NaN</td>\n",
              "      <td>5.27</td>\n",
              "      <td>7.80</td>\n",
              "      <td>5.07</td>\n",
              "      <td>...</td>\n",
              "      <td>4.1775</td>\n",
              "      <td>7.2750</td>\n",
              "      <td>5.5625</td>\n",
              "      <td>4.0700</td>\n",
              "      <td>2.8150</td>\n",
              "      <td>4.343600</td>\n",
              "      <td>7.308240</td>\n",
              "      <td>5.420400</td>\n",
              "      <td>4.030160</td>\n",
              "      <td>2.887600</td>\n",
              "    </tr>\n",
              "    <tr>\n",
              "      <th>507</th>\n",
              "      <td>508</td>\n",
              "      <td>Test</td>\n",
              "      <td>NaN</td>\n",
              "      <td>0</td>\n",
              "      <td>0</td>\n",
              "      <td>0</td>\n",
              "      <td>NaN</td>\n",
              "      <td>3.67</td>\n",
              "      <td>5.91</td>\n",
              "      <td>4.90</td>\n",
              "      <td>...</td>\n",
              "      <td>4.2025</td>\n",
              "      <td>7.2800</td>\n",
              "      <td>5.1550</td>\n",
              "      <td>3.6150</td>\n",
              "      <td>2.7050</td>\n",
              "      <td>4.074160</td>\n",
              "      <td>6.748944</td>\n",
              "      <td>5.212240</td>\n",
              "      <td>3.662096</td>\n",
              "      <td>2.720560</td>\n",
              "    </tr>\n",
              "    <tr>\n",
              "      <th>...</th>\n",
              "      <td>...</td>\n",
              "      <td>...</td>\n",
              "      <td>...</td>\n",
              "      <td>...</td>\n",
              "      <td>...</td>\n",
              "      <td>...</td>\n",
              "      <td>...</td>\n",
              "      <td>...</td>\n",
              "      <td>...</td>\n",
              "      <td>...</td>\n",
              "      <td>...</td>\n",
              "      <td>...</td>\n",
              "      <td>...</td>\n",
              "      <td>...</td>\n",
              "      <td>...</td>\n",
              "      <td>...</td>\n",
              "      <td>...</td>\n",
              "      <td>...</td>\n",
              "      <td>...</td>\n",
              "      <td>...</td>\n",
              "      <td>...</td>\n",
              "    </tr>\n",
              "    <tr>\n",
              "      <th>748</th>\n",
              "      <td>749</td>\n",
              "      <td>Test</td>\n",
              "      <td>NaN</td>\n",
              "      <td>0</td>\n",
              "      <td>0</td>\n",
              "      <td>0</td>\n",
              "      <td>NaN</td>\n",
              "      <td>3.35</td>\n",
              "      <td>2.34</td>\n",
              "      <td>2.14</td>\n",
              "      <td>...</td>\n",
              "      <td>4.0550</td>\n",
              "      <td>3.0075</td>\n",
              "      <td>2.7775</td>\n",
              "      <td>1.9250</td>\n",
              "      <td>1.5025</td>\n",
              "      <td>3.953212</td>\n",
              "      <td>3.067033</td>\n",
              "      <td>2.748381</td>\n",
              "      <td>2.045426</td>\n",
              "      <td>1.532384</td>\n",
              "    </tr>\n",
              "    <tr>\n",
              "      <th>749</th>\n",
              "      <td>750</td>\n",
              "      <td>Test</td>\n",
              "      <td>NaN</td>\n",
              "      <td>0</td>\n",
              "      <td>0</td>\n",
              "      <td>0</td>\n",
              "      <td>NaN</td>\n",
              "      <td>2.12</td>\n",
              "      <td>1.76</td>\n",
              "      <td>1.80</td>\n",
              "      <td>...</td>\n",
              "      <td>3.7800</td>\n",
              "      <td>2.6125</td>\n",
              "      <td>2.4225</td>\n",
              "      <td>1.7975</td>\n",
              "      <td>1.3325</td>\n",
              "      <td>3.219927</td>\n",
              "      <td>2.544220</td>\n",
              "      <td>2.369029</td>\n",
              "      <td>1.731256</td>\n",
              "      <td>1.299430</td>\n",
              "    </tr>\n",
              "    <tr>\n",
              "      <th>750</th>\n",
              "      <td>751</td>\n",
              "      <td>Test</td>\n",
              "      <td>NaN</td>\n",
              "      <td>0</td>\n",
              "      <td>0</td>\n",
              "      <td>0</td>\n",
              "      <td>NaN</td>\n",
              "      <td>2.47</td>\n",
              "      <td>2.22</td>\n",
              "      <td>2.40</td>\n",
              "      <td>...</td>\n",
              "      <td>2.8525</td>\n",
              "      <td>2.1800</td>\n",
              "      <td>2.2800</td>\n",
              "      <td>1.7500</td>\n",
              "      <td>1.1550</td>\n",
              "      <td>2.919956</td>\n",
              "      <td>2.414532</td>\n",
              "      <td>2.381417</td>\n",
              "      <td>1.874753</td>\n",
              "      <td>1.255658</td>\n",
              "    </tr>\n",
              "    <tr>\n",
              "      <th>751</th>\n",
              "      <td>752</td>\n",
              "      <td>Test</td>\n",
              "      <td>NaN</td>\n",
              "      <td>0</td>\n",
              "      <td>0</td>\n",
              "      <td>0</td>\n",
              "      <td>NaN</td>\n",
              "      <td>2.04</td>\n",
              "      <td>1.49</td>\n",
              "      <td>2.15</td>\n",
              "      <td>...</td>\n",
              "      <td>2.4950</td>\n",
              "      <td>1.9525</td>\n",
              "      <td>2.1225</td>\n",
              "      <td>1.6125</td>\n",
              "      <td>1.0675</td>\n",
              "      <td>2.567974</td>\n",
              "      <td>2.044719</td>\n",
              "      <td>2.288850</td>\n",
              "      <td>1.716852</td>\n",
              "      <td>1.161395</td>\n",
              "    </tr>\n",
              "    <tr>\n",
              "      <th>752</th>\n",
              "      <td>753</td>\n",
              "      <td>Test</td>\n",
              "      <td>NaN</td>\n",
              "      <td>0</td>\n",
              "      <td>0</td>\n",
              "      <td>0</td>\n",
              "      <td>NaN</td>\n",
              "      <td>2.37</td>\n",
              "      <td>2.39</td>\n",
              "      <td>2.72</td>\n",
              "      <td>...</td>\n",
              "      <td>2.2500</td>\n",
              "      <td>1.9650</td>\n",
              "      <td>2.2675</td>\n",
              "      <td>1.6700</td>\n",
              "      <td>1.1650</td>\n",
              "      <td>2.488784</td>\n",
              "      <td>2.182831</td>\n",
              "      <td>2.461310</td>\n",
              "      <td>1.770111</td>\n",
              "      <td>1.296837</td>\n",
              "    </tr>\n",
              "  </tbody>\n",
              "</table>\n",
              "<p>250 rows × 39 columns</p>\n",
              "</div>\n",
              "    <div class=\"colab-df-buttons\">\n",
              "\n",
              "  <div class=\"colab-df-container\">\n",
              "    <button class=\"colab-df-convert\" onclick=\"convertToInteractive('df-8e0efd97-01f0-408c-ba15-31f174d8b986')\"\n",
              "            title=\"Convert this dataframe to an interactive table.\"\n",
              "            style=\"display:none;\">\n",
              "\n",
              "  <svg xmlns=\"http://www.w3.org/2000/svg\" height=\"24px\" viewBox=\"0 -960 960 960\">\n",
              "    <path d=\"M120-120v-720h720v720H120Zm60-500h600v-160H180v160Zm220 220h160v-160H400v160Zm0 220h160v-160H400v160ZM180-400h160v-160H180v160Zm440 0h160v-160H620v160ZM180-180h160v-160H180v160Zm440 0h160v-160H620v160Z\"/>\n",
              "  </svg>\n",
              "    </button>\n",
              "\n",
              "  <style>\n",
              "    .colab-df-container {\n",
              "      display:flex;\n",
              "      gap: 12px;\n",
              "    }\n",
              "\n",
              "    .colab-df-convert {\n",
              "      background-color: #E8F0FE;\n",
              "      border: none;\n",
              "      border-radius: 50%;\n",
              "      cursor: pointer;\n",
              "      display: none;\n",
              "      fill: #1967D2;\n",
              "      height: 32px;\n",
              "      padding: 0 0 0 0;\n",
              "      width: 32px;\n",
              "    }\n",
              "\n",
              "    .colab-df-convert:hover {\n",
              "      background-color: #E2EBFA;\n",
              "      box-shadow: 0px 1px 2px rgba(60, 64, 67, 0.3), 0px 1px 3px 1px rgba(60, 64, 67, 0.15);\n",
              "      fill: #174EA6;\n",
              "    }\n",
              "\n",
              "    .colab-df-buttons div {\n",
              "      margin-bottom: 4px;\n",
              "    }\n",
              "\n",
              "    [theme=dark] .colab-df-convert {\n",
              "      background-color: #3B4455;\n",
              "      fill: #D2E3FC;\n",
              "    }\n",
              "\n",
              "    [theme=dark] .colab-df-convert:hover {\n",
              "      background-color: #434B5C;\n",
              "      box-shadow: 0px 1px 3px 1px rgba(0, 0, 0, 0.15);\n",
              "      filter: drop-shadow(0px 1px 2px rgba(0, 0, 0, 0.3));\n",
              "      fill: #FFFFFF;\n",
              "    }\n",
              "  </style>\n",
              "\n",
              "    <script>\n",
              "      const buttonEl =\n",
              "        document.querySelector('#df-8e0efd97-01f0-408c-ba15-31f174d8b986 button.colab-df-convert');\n",
              "      buttonEl.style.display =\n",
              "        google.colab.kernel.accessAllowed ? 'block' : 'none';\n",
              "\n",
              "      async function convertToInteractive(key) {\n",
              "        const element = document.querySelector('#df-8e0efd97-01f0-408c-ba15-31f174d8b986');\n",
              "        const dataTable =\n",
              "          await google.colab.kernel.invokeFunction('convertToInteractive',\n",
              "                                                    [key], {});\n",
              "        if (!dataTable) return;\n",
              "\n",
              "        const docLinkHtml = 'Like what you see? Visit the ' +\n",
              "          '<a target=\"_blank\" href=https://colab.research.google.com/notebooks/data_table.ipynb>data table notebook</a>'\n",
              "          + ' to learn more about interactive tables.';\n",
              "        element.innerHTML = '';\n",
              "        dataTable['output_type'] = 'display_data';\n",
              "        await google.colab.output.renderOutput(dataTable, element);\n",
              "        const docLink = document.createElement('div');\n",
              "        docLink.innerHTML = docLinkHtml;\n",
              "        element.appendChild(docLink);\n",
              "      }\n",
              "    </script>\n",
              "  </div>\n",
              "\n",
              "\n",
              "<div id=\"df-b3f1eb56-787f-48fa-aa7b-149a416495cc\">\n",
              "  <button class=\"colab-df-quickchart\" onclick=\"quickchart('df-b3f1eb56-787f-48fa-aa7b-149a416495cc')\"\n",
              "            title=\"Suggest charts\"\n",
              "            style=\"display:none;\">\n",
              "\n",
              "<svg xmlns=\"http://www.w3.org/2000/svg\" height=\"24px\"viewBox=\"0 0 24 24\"\n",
              "     width=\"24px\">\n",
              "    <g>\n",
              "        <path d=\"M19 3H5c-1.1 0-2 .9-2 2v14c0 1.1.9 2 2 2h14c1.1 0 2-.9 2-2V5c0-1.1-.9-2-2-2zM9 17H7v-7h2v7zm4 0h-2V7h2v10zm4 0h-2v-4h2v4z\"/>\n",
              "    </g>\n",
              "</svg>\n",
              "  </button>\n",
              "\n",
              "<style>\n",
              "  .colab-df-quickchart {\n",
              "      --bg-color: #E8F0FE;\n",
              "      --fill-color: #1967D2;\n",
              "      --hover-bg-color: #E2EBFA;\n",
              "      --hover-fill-color: #174EA6;\n",
              "      --disabled-fill-color: #AAA;\n",
              "      --disabled-bg-color: #DDD;\n",
              "  }\n",
              "\n",
              "  [theme=dark] .colab-df-quickchart {\n",
              "      --bg-color: #3B4455;\n",
              "      --fill-color: #D2E3FC;\n",
              "      --hover-bg-color: #434B5C;\n",
              "      --hover-fill-color: #FFFFFF;\n",
              "      --disabled-bg-color: #3B4455;\n",
              "      --disabled-fill-color: #666;\n",
              "  }\n",
              "\n",
              "  .colab-df-quickchart {\n",
              "    background-color: var(--bg-color);\n",
              "    border: none;\n",
              "    border-radius: 50%;\n",
              "    cursor: pointer;\n",
              "    display: none;\n",
              "    fill: var(--fill-color);\n",
              "    height: 32px;\n",
              "    padding: 0;\n",
              "    width: 32px;\n",
              "  }\n",
              "\n",
              "  .colab-df-quickchart:hover {\n",
              "    background-color: var(--hover-bg-color);\n",
              "    box-shadow: 0 1px 2px rgba(60, 64, 67, 0.3), 0 1px 3px 1px rgba(60, 64, 67, 0.15);\n",
              "    fill: var(--button-hover-fill-color);\n",
              "  }\n",
              "\n",
              "  .colab-df-quickchart-complete:disabled,\n",
              "  .colab-df-quickchart-complete:disabled:hover {\n",
              "    background-color: var(--disabled-bg-color);\n",
              "    fill: var(--disabled-fill-color);\n",
              "    box-shadow: none;\n",
              "  }\n",
              "\n",
              "  .colab-df-spinner {\n",
              "    border: 2px solid var(--fill-color);\n",
              "    border-color: transparent;\n",
              "    border-bottom-color: var(--fill-color);\n",
              "    animation:\n",
              "      spin 1s steps(1) infinite;\n",
              "  }\n",
              "\n",
              "  @keyframes spin {\n",
              "    0% {\n",
              "      border-color: transparent;\n",
              "      border-bottom-color: var(--fill-color);\n",
              "      border-left-color: var(--fill-color);\n",
              "    }\n",
              "    20% {\n",
              "      border-color: transparent;\n",
              "      border-left-color: var(--fill-color);\n",
              "      border-top-color: var(--fill-color);\n",
              "    }\n",
              "    30% {\n",
              "      border-color: transparent;\n",
              "      border-left-color: var(--fill-color);\n",
              "      border-top-color: var(--fill-color);\n",
              "      border-right-color: var(--fill-color);\n",
              "    }\n",
              "    40% {\n",
              "      border-color: transparent;\n",
              "      border-right-color: var(--fill-color);\n",
              "      border-top-color: var(--fill-color);\n",
              "    }\n",
              "    60% {\n",
              "      border-color: transparent;\n",
              "      border-right-color: var(--fill-color);\n",
              "    }\n",
              "    80% {\n",
              "      border-color: transparent;\n",
              "      border-right-color: var(--fill-color);\n",
              "      border-bottom-color: var(--fill-color);\n",
              "    }\n",
              "    90% {\n",
              "      border-color: transparent;\n",
              "      border-bottom-color: var(--fill-color);\n",
              "    }\n",
              "  }\n",
              "</style>\n",
              "\n",
              "  <script>\n",
              "    async function quickchart(key) {\n",
              "      const quickchartButtonEl =\n",
              "        document.querySelector('#' + key + ' button');\n",
              "      quickchartButtonEl.disabled = true;  // To prevent multiple clicks.\n",
              "      quickchartButtonEl.classList.add('colab-df-spinner');\n",
              "      try {\n",
              "        const charts = await google.colab.kernel.invokeFunction(\n",
              "            'suggestCharts', [key], {});\n",
              "      } catch (error) {\n",
              "        console.error('Error during call to suggestCharts:', error);\n",
              "      }\n",
              "      quickchartButtonEl.classList.remove('colab-df-spinner');\n",
              "      quickchartButtonEl.classList.add('colab-df-quickchart-complete');\n",
              "    }\n",
              "    (() => {\n",
              "      let quickchartButtonEl =\n",
              "        document.querySelector('#df-b3f1eb56-787f-48fa-aa7b-149a416495cc button');\n",
              "      quickchartButtonEl.style.display =\n",
              "        google.colab.kernel.accessAllowed ? 'block' : 'none';\n",
              "    })();\n",
              "  </script>\n",
              "</div>\n",
              "    </div>\n",
              "  </div>\n"
            ],
            "application/vnd.google.colaboratory.intrinsic+json": {
              "type": "dataframe",
              "variable_name": "test_data"
            }
          },
          "metadata": {},
          "execution_count": 666
        }
      ]
    },
    {
      "cell_type": "code",
      "source": [
        "from statsmodels.tsa.statespace.sarimax import SARIMAX\n",
        "import pandas as pd\n",
        "\n",
        "# Fit SARIMAX model with optimal (p, d, q) and seasonal (P, D, Q, s) values and exogenous variables\n",
        "optimal_pdq = (2, 0, 3)  # Replace with your optimal non-seasonal values\n",
        "optimal_seasonal_pdq = (0, 0, 0, 5)  # Replace with your optimal seasonal values\n",
        "exog_vars = ['EADay', 'EADayAfter', 'EADayBefore',\n",
        "             'DayOfWeek_Monday', 'DayOfWeek_Tuesday', 'DayOfWeek_Wednesday', 'DayOfWeek_Thursday', 'DayOfWeek_Friday',\n",
        "             'Month_3', 'Month_4', 'Month_5', 'Month_6', 'Month_7', 'Month_8' ,'Month_9', 'Month_10', 'Month_11', 'Month_12', 'Month_13', 'Month_14',\n",
        "             'EMA_2', 'EMA_3', 'EMA_4', 'EMA_5', 'EMA_6']\n",
        "model = SARIMAX(train_data['VolStock1(t)'], exog=train_data[exog_vars], order=optimal_pdq, seasonal_order=optimal_seasonal_pdq)\n",
        "fitted_model = model.fit()\n",
        "\n",
        "# Forecast on test data with exogenous variables\n",
        "forecast_model = fitted_model.forecast(steps=len(test_data), exog=test_data[exog_vars])\n"
      ],
      "metadata": {
        "colab": {
          "base_uri": "https://localhost:8080/"
        },
        "id": "pxLZa99ernrQ",
        "outputId": "07235c0c-15d6-41e5-d320-2347203b21a1"
      },
      "execution_count": null,
      "outputs": [
        {
          "output_type": "stream",
          "name": "stderr",
          "text": [
            "/usr/local/lib/python3.10/dist-packages/statsmodels/tsa/base/tsa_model.py:473: ValueWarning: An unsupported index was provided and will be ignored when e.g. forecasting.\n",
            "  self._init_dates(dates, freq)\n",
            "/usr/local/lib/python3.10/dist-packages/statsmodels/tsa/base/tsa_model.py:473: ValueWarning: An unsupported index was provided and will be ignored when e.g. forecasting.\n",
            "  self._init_dates(dates, freq)\n",
            "/usr/local/lib/python3.10/dist-packages/statsmodels/base/model.py:607: ConvergenceWarning: Maximum Likelihood optimization failed to converge. Check mle_retvals\n",
            "  warnings.warn(\"Maximum Likelihood optimization failed to \"\n",
            "/usr/local/lib/python3.10/dist-packages/statsmodels/tsa/base/tsa_model.py:836: ValueWarning: No supported index is available. Prediction results will be given with an integer index beginning at `start`.\n",
            "  return get_prediction_index(\n",
            "/usr/local/lib/python3.10/dist-packages/statsmodels/tsa/base/tsa_model.py:836: FutureWarning: No supported index is available. In the next version, calling this method in a model without a supported index will result in an exception.\n",
            "  return get_prediction_index(\n"
          ]
        }
      ]
    },
    {
      "cell_type": "code",
      "source": [
        "# Save predictions to CSV file\n",
        "\n",
        "# IMPORTANT: Your predictions should be labelled with the index\n",
        "# of observation 503-752\n",
        "#\n",
        "# You should name your file \"Assignment2 - YOUR NAME.csv\"\n",
        "forecast.to_csv('Assignment2 - Jasmine Gohil.csv')"
      ],
      "metadata": {
        "id": "7NWJ-56Cn39M"
      },
      "execution_count": null,
      "outputs": []
    }
  ],
  "metadata": {
    "colab": {
      "provenance": []
    },
    "kernelspec": {
      "display_name": "Python 3",
      "language": "python",
      "name": "python3"
    },
    "language_info": {
      "codemirror_mode": {
        "name": "ipython",
        "version": 3
      },
      "file_extension": ".py",
      "mimetype": "text/x-python",
      "name": "python",
      "nbconvert_exporter": "python",
      "pygments_lexer": "ipython3",
      "version": "3.8.5"
    }
  },
  "nbformat": 4,
  "nbformat_minor": 0
}